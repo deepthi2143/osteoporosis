{
 "cells": [
  {
   "cell_type": "code",
   "execution_count": 3,
   "id": "e1569913",
   "metadata": {},
   "outputs": [
    {
     "name": "stdout",
     "output_type": "stream",
     "text": [
      "{'osteopenia': 0, 'normal': 1, 'osteoporosis': 2}\n",
      "['osteopenia', 'normal', 'osteoporosis']\n",
      "[0, 1, 2]\n"
     ]
    }
   ],
   "source": [
    "import cv2\n",
    "import os\n",
    "data=[]\n",
    "target=[]\n",
    "data_path=r\"C:\\Users\\ASUS\\Osteoporosis_Knee_X-ray\"\n",
    "categories=['osteopenia','normal','osteoporosis']\n",
    "map={0:'osteopenia',1:'normal',2:'osteoporosis'}\n",
    "labels=[0,1,2]\n",
    "idd=[]\n",
    "label_dict=dict(zip(categories,labels))\n",
    "def label(s):\n",
    "    if 'OP' in s:\n",
    "        return 0 \n",
    "    if 'OS' in s:      \n",
    "        return 2 \n",
    "    if 'N' in s: \n",
    "        return 1 \n",
    "print(label_dict)\n",
    "print(categories)\n",
    "print(labels)\n",
    "for category in categories:\n",
    "    folder_path=os.path.join(data_path,category)\n",
    "    img_names=os.listdir(folder_path)\n",
    "    for img_name in img_names:\n",
    "        img_path=os.path.join(folder_path,img_name)\n",
    "        img=cv2.imread(img_path)\n",
    "        try:\n",
    "            #gray=cv2.cvtColor(img,cv2.COLOR_BGR2GRAY)           \n",
    "            resized=cv2.resize(img,(224, 224))\n",
    "            data.append(resized)\n",
    "            target.append(label(img_name))\n",
    "        except Exception as e:\n",
    "            print('Exception:',e)\n",
    "# print(data)"
   ]
  },
  {
   "cell_type": "code",
   "execution_count": null,
   "id": "c50bf33c",
   "metadata": {},
   "outputs": [],
   "source": []
  },
  {
   "cell_type": "code",
   "execution_count": 25,
   "id": "734ba2ce",
   "metadata": {},
   "outputs": [],
   "source": [
    "import pandas as pd\n",
    "df=pd.read_excel(r'patient_details_updated.xlsx')\n",
    "# df\n",
    "# df.to_excel(r'C:\\Users\\vamsi\\Downloads\\Osteoporosis Knee X-ray\\patient_details_updated.xlsx',index=False)"
   ]
  },
  {
   "cell_type": "code",
   "execution_count": 26,
   "id": "96148f43",
   "metadata": {},
   "outputs": [
    {
     "data": {
      "text/plain": [
       "(239, 224, 224, 3)"
      ]
     },
     "execution_count": 26,
     "metadata": {},
     "output_type": "execute_result"
    }
   ],
   "source": [
    "import numpy as np \n",
    "np.save('data.npy',data)\n",
    "data2=np.load('data.npy')\n",
    "data2.shape"
   ]
  },
  {
   "cell_type": "code",
   "execution_count": 27,
   "id": "a5d509bf",
   "metadata": {},
   "outputs": [
    {
     "data": {
      "text/plain": [
       "Index(['S.No', 'Patient Id', 'Joint Pain:', 'Gender', 'Age', 'Menopause Age',\n",
       "       'height  (meter)', 'Weight (KG) ', 'Smoker', 'Alcoholic', 'Diabetic',\n",
       "       'Hypothyroidism', 'Number of Pregnancies', 'Seizer Disorder',\n",
       "       'Estrogen Use', 'Occupation ', 'History of Fracture', 'Dialysis:',\n",
       "       'Family History of Osteoporosis', 'Maximum Walking distance (km)',\n",
       "       'Daily Eating habits', 'Medical History', 'T-score Value',\n",
       "       'Z-Score Value', 'BMI: ', 'Site', 'Obesity', 'Diagnosis'],\n",
       "      dtype='object')"
      ]
     },
     "execution_count": 27,
     "metadata": {},
     "output_type": "execute_result"
    }
   ],
   "source": [
    "df.columns"
   ]
  },
  {
   "cell_type": "code",
   "execution_count": 28,
   "id": "a902c6a0",
   "metadata": {},
   "outputs": [],
   "source": [
    "import pandas  as pd\n",
    "df=pd.read_csv(r\"updated_data.csv\")\n",
    "# df.head(1)\n",
    "df=df.rename(columns={'data':'images'})\n",
    "# df.columns"
   ]
  },
  {
   "cell_type": "code",
   "execution_count": 29,
   "id": "bf278914",
   "metadata": {},
   "outputs": [
    {
     "data": {
      "text/html": [
       "<div>\n",
       "<style scoped>\n",
       "    .dataframe tbody tr th:only-of-type {\n",
       "        vertical-align: middle;\n",
       "    }\n",
       "\n",
       "    .dataframe tbody tr th {\n",
       "        vertical-align: top;\n",
       "    }\n",
       "\n",
       "    .dataframe thead th {\n",
       "        text-align: right;\n",
       "    }\n",
       "</style>\n",
       "<table border=\"1\" class=\"dataframe\">\n",
       "  <thead>\n",
       "    <tr style=\"text-align: right;\">\n",
       "      <th></th>\n",
       "      <th>S.No</th>\n",
       "      <th>Patient Id</th>\n",
       "      <th>Joint Pain:</th>\n",
       "      <th>Gender</th>\n",
       "      <th>Age</th>\n",
       "      <th>Menopause Age</th>\n",
       "      <th>height  (meter)</th>\n",
       "      <th>Weight (KG)</th>\n",
       "      <th>Smoker</th>\n",
       "      <th>Alcoholic</th>\n",
       "      <th>...</th>\n",
       "      <th>Family History of Osteoporosis</th>\n",
       "      <th>Maximum Walking distance (km)</th>\n",
       "      <th>Daily Eating habits</th>\n",
       "      <th>Medical History</th>\n",
       "      <th>T-score Value</th>\n",
       "      <th>Z-Score Value</th>\n",
       "      <th>BMI:</th>\n",
       "      <th>Site</th>\n",
       "      <th>Obesity</th>\n",
       "      <th>Diagnosis</th>\n",
       "    </tr>\n",
       "  </thead>\n",
       "  <tbody>\n",
       "    <tr>\n",
       "      <th>0</th>\n",
       "      <td>1.0</td>\n",
       "      <td>OP1</td>\n",
       "      <td>yes</td>\n",
       "      <td>male</td>\n",
       "      <td>1.103660</td>\n",
       "      <td>NaN</td>\n",
       "      <td>0.631320</td>\n",
       "      <td>-0.423468</td>\n",
       "      <td>yes</td>\n",
       "      <td>no</td>\n",
       "      <td>...</td>\n",
       "      <td>no</td>\n",
       "      <td>-0.871801</td>\n",
       "      <td>normal</td>\n",
       "      <td>normal</td>\n",
       "      <td>-0.207519</td>\n",
       "      <td>3.055871</td>\n",
       "      <td>-0.891038</td>\n",
       "      <td>knee</td>\n",
       "      <td>normal weight</td>\n",
       "      <td>osteopenia</td>\n",
       "    </tr>\n",
       "    <tr>\n",
       "      <th>1</th>\n",
       "      <td>2.0</td>\n",
       "      <td>OP2</td>\n",
       "      <td>yes</td>\n",
       "      <td>female</td>\n",
       "      <td>0.230497</td>\n",
       "      <td>0.189324</td>\n",
       "      <td>0.949663</td>\n",
       "      <td>0.934339</td>\n",
       "      <td>no</td>\n",
       "      <td>no</td>\n",
       "      <td>...</td>\n",
       "      <td>no</td>\n",
       "      <td>-0.468029</td>\n",
       "      <td>normal</td>\n",
       "      <td>G.B rem, B.P</td>\n",
       "      <td>-0.617049</td>\n",
       "      <td>-2.046204</td>\n",
       "      <td>0.039387</td>\n",
       "      <td>knee</td>\n",
       "      <td>over weight</td>\n",
       "      <td>osteopenia</td>\n",
       "    </tr>\n",
       "    <tr>\n",
       "      <th>2</th>\n",
       "      <td>3.0</td>\n",
       "      <td>OP3</td>\n",
       "      <td>yes</td>\n",
       "      <td>female</td>\n",
       "      <td>-0.166396</td>\n",
       "      <td>-0.418957</td>\n",
       "      <td>-2.233767</td>\n",
       "      <td>-1.050148</td>\n",
       "      <td>no</td>\n",
       "      <td>no</td>\n",
       "      <td>...</td>\n",
       "      <td>no</td>\n",
       "      <td>-0.468029</td>\n",
       "      <td>low protiens</td>\n",
       "      <td>no</td>\n",
       "      <td>-0.119762</td>\n",
       "      <td>-0.266410</td>\n",
       "      <td>0.931567</td>\n",
       "      <td>knee</td>\n",
       "      <td>obesity</td>\n",
       "      <td>osteopenia</td>\n",
       "    </tr>\n",
       "    <tr>\n",
       "      <th>3</th>\n",
       "      <td>4.0</td>\n",
       "      <td>OP4</td>\n",
       "      <td>yes</td>\n",
       "      <td>female</td>\n",
       "      <td>0.468632</td>\n",
       "      <td>-1.027238</td>\n",
       "      <td>-0.642052</td>\n",
       "      <td>0.307659</td>\n",
       "      <td>no</td>\n",
       "      <td>no</td>\n",
       "      <td>...</td>\n",
       "      <td>no</td>\n",
       "      <td>0.036687</td>\n",
       "      <td>low fats</td>\n",
       "      <td>uterus removed</td>\n",
       "      <td>-0.573170</td>\n",
       "      <td>0.297191</td>\n",
       "      <td>0.842154</td>\n",
       "      <td>knee</td>\n",
       "      <td>obesity</td>\n",
       "      <td>osteopenia</td>\n",
       "    </tr>\n",
       "    <tr>\n",
       "      <th>4</th>\n",
       "      <td>5.0</td>\n",
       "      <td>OP5</td>\n",
       "      <td>yes</td>\n",
       "      <td>female</td>\n",
       "      <td>-0.880803</td>\n",
       "      <td>NaN</td>\n",
       "      <td>-0.960395</td>\n",
       "      <td>-1.572382</td>\n",
       "      <td>no</td>\n",
       "      <td>no</td>\n",
       "      <td>...</td>\n",
       "      <td>no</td>\n",
       "      <td>0.036687</td>\n",
       "      <td>normal</td>\n",
       "      <td>depression</td>\n",
       "      <td>0.041124</td>\n",
       "      <td>0.415844</td>\n",
       "      <td>-0.837833</td>\n",
       "      <td>knee</td>\n",
       "      <td>normal weight</td>\n",
       "      <td>osteopenia</td>\n",
       "    </tr>\n",
       "  </tbody>\n",
       "</table>\n",
       "<p>5 rows × 28 columns</p>\n",
       "</div>"
      ],
      "text/plain": [
       "   S.No Patient Id Joint Pain:  Gender       Age  Menopause Age  \\\n",
       "0   1.0        OP1         yes    male  1.103660            NaN   \n",
       "1   2.0        OP2         yes  female  0.230497       0.189324   \n",
       "2   3.0        OP3         yes  female -0.166396      -0.418957   \n",
       "3   4.0        OP4         yes  female  0.468632      -1.027238   \n",
       "4   5.0        OP5         yes  female -0.880803            NaN   \n",
       "\n",
       "   height  (meter)  Weight (KG)  Smoker Alcoholic  ...  \\\n",
       "0         0.631320     -0.423468    yes        no  ...   \n",
       "1         0.949663      0.934339     no        no  ...   \n",
       "2        -2.233767     -1.050148     no        no  ...   \n",
       "3        -0.642052      0.307659     no        no  ...   \n",
       "4        -0.960395     -1.572382     no        no  ...   \n",
       "\n",
       "  Family History of Osteoporosis Maximum Walking distance (km)  \\\n",
       "0                             no                     -0.871801   \n",
       "1                             no                     -0.468029   \n",
       "2                             no                     -0.468029   \n",
       "3                             no                      0.036687   \n",
       "4                             no                      0.036687   \n",
       "\n",
       "   Daily Eating habits Medical History T-score Value Z-Score Value     BMI:   \\\n",
       "0               normal          normal     -0.207519      3.055871 -0.891038   \n",
       "1               normal    G.B rem, B.P     -0.617049     -2.046204  0.039387   \n",
       "2         low protiens              no     -0.119762     -0.266410  0.931567   \n",
       "3             low fats  uterus removed     -0.573170      0.297191  0.842154   \n",
       "4               normal      depression      0.041124      0.415844 -0.837833   \n",
       "\n",
       "   Site        Obesity   Diagnosis  \n",
       "0  knee  normal weight  osteopenia  \n",
       "1  knee    over weight  osteopenia  \n",
       "2  knee       obesity   osteopenia  \n",
       "3  knee       obesity   osteopenia  \n",
       "4  knee  normal weight  osteopenia  \n",
       "\n",
       "[5 rows x 28 columns]"
      ]
     },
     "execution_count": 29,
     "metadata": {},
     "output_type": "execute_result"
    }
   ],
   "source": [
    "\n",
    "from sklearn.preprocessing import StandardScaler\n",
    "# Selecting only the important columns\n",
    "important_columns = ['S.No', 'Patient Id', 'Joint Pain:', 'Gender', 'Age', 'Menopause Age',\n",
    "                     'height  (meter)', 'Weight (KG) ', 'Smoker', 'Alcoholic', 'Diabetic',\n",
    "                     'Hypothyroidism', 'Number of Pregnancies', 'Seizer Disorder',\n",
    "                     'Estrogen Use', 'Occupation ', 'History of Fracture', 'Dialysis:',\n",
    "                     'Family History of Osteoporosis', 'Maximum Walking distance (km)',\n",
    "                     'Daily Eating habits', 'Medical History', 'T-score Value',\n",
    "                     'Z-Score Value', 'BMI: ', 'Site', 'Obesity', 'Diagnosis', \n",
    "                     ]\n",
    "\n",
    "df = df[important_columns]\n",
    "\n",
    "# Assuming you want to scale 'Age', 'Height (meter)', and 'Weight (KG)'\n",
    "columns_to_scale = ['Age', 'Menopause Age', 'height  (meter)', 'Weight (KG) ', 'Number of Pregnancies',\n",
    "                    'Maximum Walking distance (km)', 'T-score Value', 'Z-Score Value', 'BMI: ']\n",
    "\n",
    "# Apply scaling to the selected columns\n",
    "scaler = StandardScaler()\n",
    "df[columns_to_scale] = scaler.fit_transform(df[columns_to_scale])\n",
    "\n",
    "# Now you have only the important columns and necessary columns are scaled and standardized\n",
    "df.head()\n"
   ]
  },
  {
   "cell_type": "code",
   "execution_count": 31,
   "id": "374ae76b",
   "metadata": {},
   "outputs": [
    {
     "name": "stdout",
     "output_type": "stream",
     "text": [
      "28\n"
     ]
    }
   ],
   "source": [
    "import pandas as pd\n",
    "from sklearn.preprocessing import OneHotEncoder, LabelEncoder\n",
    "\n",
    "# Assuming df is your DataFrame with necessary columns\n",
    "\n",
    "# Columns to be one-hot encoded\n",
    "columns_to_one_hot_encode = ['Joint Pain:', 'Gender', 'Smoker', 'Alcoholic', 'Diabetic', 'Hypothyroidism', 'Seizer Disorder', \n",
    "                             'Estrogen Use', 'Occupation ', 'History of Fracture', 'Dialysis:', \n",
    "                             'Family History of Osteoporosis', 'Daily Eating habits', 'Medical History', 'Obesity', 'Diagnosis']\n",
    "\n",
    "# Columns to be label encoded\n",
    "columns_to_label_encode = ['Site']\n",
    "\n",
    "# One-hot encoding\n",
    "encoded_features = []\n",
    "for column in columns_to_one_hot_encode:\n",
    "    one_hot_encoder = OneHotEncoder(sparse=False)\n",
    "    encoded_column = one_hot_encoder.fit_transform(df[[column]])\n",
    "    encoded_features.append(pd.DataFrame(encoded_column, columns=one_hot_encoder.get_feature_names([column])))\n",
    "    \n",
    "# Concatenate one-hot encoded features\n",
    "df_encoded = pd.concat([df] + encoded_features, axis=1)\n",
    "\n",
    "# Label encoding\n",
    "for column in columns_to_label_encode:\n",
    "    label_encoder = LabelEncoder()\n",
    "    df_encoded[column] = label_encoder.fit_transform(df_encoded[column])\n",
    "\n",
    "# Now you have encoded the categorical columns using one-hot encoding and label encoding\n",
    "df_encoded.head()\n",
    "print(len(df.columns))"
   ]
  },
  {
   "cell_type": "code",
   "execution_count": null,
   "id": "42c4bb42",
   "metadata": {},
   "outputs": [],
   "source": []
  },
  {
   "cell_type": "code",
   "execution_count": null,
   "id": "b8c52c04",
   "metadata": {},
   "outputs": [],
   "source": [
    "# a=[]\n",
    "# a.append(df.columns)\n",
    "# print(a)\n",
    "# print(len(a[0]))"
   ]
  },
  {
   "cell_type": "code",
   "execution_count": 32,
   "id": "4dc95aa7",
   "metadata": {
    "scrolled": true
   },
   "outputs": [
    {
     "name": "stdout",
     "output_type": "stream",
     "text": [
      "   S.No Patient Id  Joint Pain:  Gender       Age  Menopause Age  \\\n",
      "0   1.0        OP1            1       1  1.103660            NaN   \n",
      "1   2.0        OP2            1       0  0.230497       0.189324   \n",
      "2   3.0        OP3            1       0 -0.166396      -0.418957   \n",
      "3   4.0        OP4            1       0  0.468632      -1.027238   \n",
      "4   5.0        OP5            1       0 -0.880803            NaN   \n",
      "\n",
      "   height  (meter)  Weight (KG)   Smoker  Alcoholic  ...  \\\n",
      "0         0.631320     -0.423468       1          0  ...   \n",
      "1         0.949663      0.934339       0          0  ...   \n",
      "2        -2.233767     -1.050148       0          0  ...   \n",
      "3        -0.642052      0.307659       0          0  ...   \n",
      "4        -0.960395     -1.572382       0          0  ...   \n",
      "\n",
      "   Family History of Osteoporosis  Maximum Walking distance (km)  \\\n",
      "0                               0                      -0.871801   \n",
      "1                               0                      -0.468029   \n",
      "2                               0                      -0.468029   \n",
      "3                               0                       0.036687   \n",
      "4                               0                       0.036687   \n",
      "\n",
      "   Daily Eating habits  Medical History  T-score Value  Z-Score Value  \\\n",
      "0                   21               62      -0.207519       3.055871   \n",
      "1                   21               11      -0.617049      -2.046204   \n",
      "2                   10               61      -0.119762      -0.266410   \n",
      "3                    2               79      -0.573170       0.297191   \n",
      "4                   21               44       0.041124       0.415844   \n",
      "\n",
      "      BMI:   Site  Obesity  Diagnosis  \n",
      "0 -0.891038     0        0          1  \n",
      "1  0.039387     0        2          1  \n",
      "2  0.931567     0        1          1  \n",
      "3  0.842154     0        1          1  \n",
      "4 -0.837833     0        0          1  \n",
      "\n",
      "[5 rows x 28 columns]\n"
     ]
    }
   ],
   "source": [
    "from sklearn.preprocessing import LabelEncoder\n",
    "\n",
    "# Assuming df is your DataFrame with necessary columns\n",
    "\n",
    "# Columns to be label encoded\n",
    "columns_to_label_encode = ['Joint Pain:', 'Gender', 'Smoker', 'Alcoholic', 'Diabetic', 'Hypothyroidism', 'Seizer Disorder', \n",
    "                             'Estrogen Use', 'Occupation ', 'History of Fracture', 'Dialysis:', \n",
    "                             'Family History of Osteoporosis', 'Daily Eating habits', 'Medical History', 'Obesity', 'Diagnosis', 'Site']\n",
    "\n",
    "# Label encoding\n",
    "label_encoders = {}\n",
    "for column in columns_to_label_encode:\n",
    "    label_encoder = LabelEncoder()\n",
    "    df[column] = label_encoder.fit_transform(df[column])\n",
    "    label_encoders[column] = label_encoder\n",
    "\n",
    "# Now you have encoded the categorical columns using label encoding\n",
    "print(df.head())\n"
   ]
  },
  {
   "cell_type": "code",
   "execution_count": null,
   "id": "bf415efd",
   "metadata": {},
   "outputs": [],
   "source": [
    "# df['images']"
   ]
  },
  {
   "cell_type": "code",
   "execution_count": 33,
   "id": "b99870fe",
   "metadata": {},
   "outputs": [],
   "source": [
    "df=df.fillna(0)"
   ]
  },
  {
   "cell_type": "code",
   "execution_count": 34,
   "id": "0d2c43f9",
   "metadata": {},
   "outputs": [],
   "source": [
    "X=df.drop(columns=['Diagnosis','Patient Id'])\n",
    "y=df['Diagnosis']\n",
    "# print(X['images'].head())\n"
   ]
  },
  {
   "cell_type": "code",
   "execution_count": null,
   "id": "078b20a2",
   "metadata": {},
   "outputs": [],
   "source": [
    "# import pandas as pd\n",
    "# import numpy as np\n",
    "\n",
    "# # Define the extract_features function\n",
    "# def extract_features(image):\n",
    "#     # Calculate mean pixel intensity for each channel\n",
    "#     mean_intensity = np.mean(image, axis=(0, 1))\n",
    "#     # Calculate image dimensions\n",
    "#     dimensions = image.shape[:2]  # Assuming images are grayscale\n",
    "    \n",
    "#     return pd.Series(np.concatenate([mean_intensity, dimensions]))\n",
    "\n",
    "# # Apply the extract_features function to each image in the images column\n",
    "# X[['mean_intensity_1', 'mean_intensity_2', 'mean_intensity_3', 'image_height', 'image_width']] = data.apply(extract_features)\n",
    "\n",
    "# # Drop the original 'images' column\n",
    "# # X = X.drop(columns=['images'])\n",
    "\n",
    "# # Convert DataFrame columns to float32\n",
    "# X = X.astype('float32')\n",
    "# y = y.astype('float32')\n"
   ]
  },
  {
   "cell_type": "code",
   "execution_count": 35,
   "id": "a067a60f",
   "metadata": {},
   "outputs": [],
   "source": [
    "\n",
    "from sklearn.model_selection import train_test_split\n",
    "from tensorflow.keras.models import Sequential\n",
    "from tensorflow.keras.layers import Dense\n",
    "\n",
    "# Assuming df is your DataFrame with preprocessed data\n",
    "\n",
    "# Separate features (X) and target variable (y)\n",
    "X = df.drop(columns=['Diagnosis','Patient Id'])  # Replace 'Target_column' with the name of your target column\n",
    "y = df['Diagnosis']\n",
    "\n",
    "# Split the data into train and test sets\n",
    "X_train, X_test, y_train, y_test = train_test_split(X, y, test_size=0.2, random_state=42)\n"
   ]
  },
  {
   "cell_type": "code",
   "execution_count": null,
   "id": "3cfb7421",
   "metadata": {},
   "outputs": [],
   "source": [
    "# # Print DataFrame info to check data types and missing values\n",
    "# print(X.info())\n",
    "# print(y.info())"
   ]
  },
  {
   "cell_type": "code",
   "execution_count": 36,
   "id": "bcc8b848",
   "metadata": {},
   "outputs": [
    {
     "name": "stderr",
     "output_type": "stream",
     "text": [
      "WARNING:absl:`lr` is deprecated in Keras optimizer, please use `learning_rate` or use the legacy optimizer, e.g.,tf.keras.optimizers.legacy.Adam.\n"
     ]
    },
    {
     "name": "stdout",
     "output_type": "stream",
     "text": [
      "Epoch 1/30\n",
      "6/6 [==============================] - 1s 36ms/step - loss: 0.7722 - accuracy: 0.3026 - val_loss: 0.6498 - val_accuracy: 0.3846\n",
      "Epoch 2/30\n",
      "6/6 [==============================] - 0s 7ms/step - loss: 0.5345 - accuracy: 0.4737 - val_loss: 0.4430 - val_accuracy: 0.5641\n",
      "Epoch 3/30\n",
      "6/6 [==============================] - 0s 7ms/step - loss: 0.3545 - accuracy: 0.5921 - val_loss: 0.2747 - val_accuracy: 0.6410\n",
      "Epoch 4/30\n",
      "6/6 [==============================] - 0s 7ms/step - loss: 0.1898 - accuracy: 0.6316 - val_loss: 0.1350 - val_accuracy: 0.6923\n",
      "Epoch 5/30\n",
      "6/6 [==============================] - 0s 7ms/step - loss: 0.0471 - accuracy: 0.6316 - val_loss: 0.0064 - val_accuracy: 0.6923\n",
      "Epoch 6/30\n",
      "6/6 [==============================] - 0s 7ms/step - loss: -0.0865 - accuracy: 0.6382 - val_loss: -0.1152 - val_accuracy: 0.6667\n",
      "Epoch 7/30\n",
      "6/6 [==============================] - 0s 7ms/step - loss: -0.2187 - accuracy: 0.6382 - val_loss: -0.2332 - val_accuracy: 0.6667\n",
      "Epoch 8/30\n",
      "6/6 [==============================] - 0s 7ms/step - loss: -0.3559 - accuracy: 0.6447 - val_loss: -0.3566 - val_accuracy: 0.6667\n",
      "Epoch 9/30\n",
      "6/6 [==============================] - 0s 7ms/step - loss: -0.5158 - accuracy: 0.6579 - val_loss: -0.4801 - val_accuracy: 0.6667\n",
      "Epoch 10/30\n",
      "6/6 [==============================] - 0s 7ms/step - loss: -0.6846 - accuracy: 0.6645 - val_loss: -0.6167 - val_accuracy: 0.6923\n",
      "Epoch 11/30\n",
      "6/6 [==============================] - 0s 7ms/step - loss: -0.8779 - accuracy: 0.6842 - val_loss: -0.7724 - val_accuracy: 0.6923\n",
      "Epoch 12/30\n",
      "6/6 [==============================] - 0s 7ms/step - loss: -1.0991 - accuracy: 0.6842 - val_loss: -0.9506 - val_accuracy: 0.6667\n",
      "Epoch 13/30\n",
      "6/6 [==============================] - 0s 7ms/step - loss: -1.3694 - accuracy: 0.6974 - val_loss: -1.1544 - val_accuracy: 0.6667\n",
      "Epoch 14/30\n",
      "6/6 [==============================] - 0s 7ms/step - loss: -1.6605 - accuracy: 0.6974 - val_loss: -1.3912 - val_accuracy: 0.6923\n",
      "Epoch 15/30\n",
      "6/6 [==============================] - 0s 7ms/step - loss: -2.0117 - accuracy: 0.7039 - val_loss: -1.6578 - val_accuracy: 0.6923\n",
      "Epoch 16/30\n",
      "6/6 [==============================] - 0s 7ms/step - loss: -2.4457 - accuracy: 0.7105 - val_loss: -1.9592 - val_accuracy: 0.6923\n",
      "Epoch 17/30\n",
      "6/6 [==============================] - 0s 7ms/step - loss: -2.9019 - accuracy: 0.7171 - val_loss: -2.3282 - val_accuracy: 0.6923\n",
      "Epoch 18/30\n",
      "6/6 [==============================] - 0s 7ms/step - loss: -3.5084 - accuracy: 0.7171 - val_loss: -2.7287 - val_accuracy: 0.6923\n",
      "Epoch 19/30\n",
      "6/6 [==============================] - 0s 7ms/step - loss: -4.1320 - accuracy: 0.7171 - val_loss: -3.2116 - val_accuracy: 0.7179\n",
      "Epoch 20/30\n",
      "6/6 [==============================] - 0s 7ms/step - loss: -4.8210 - accuracy: 0.7171 - val_loss: -3.7767 - val_accuracy: 0.7179\n",
      "Epoch 21/30\n",
      "6/6 [==============================] - 0s 7ms/step - loss: -5.7985 - accuracy: 0.7171 - val_loss: -4.3640 - val_accuracy: 0.7179\n",
      "Epoch 22/30\n",
      "6/6 [==============================] - 0s 7ms/step - loss: -6.7594 - accuracy: 0.7171 - val_loss: -5.0551 - val_accuracy: 0.6923\n",
      "Epoch 23/30\n",
      "6/6 [==============================] - 0s 7ms/step - loss: -7.8699 - accuracy: 0.7237 - val_loss: -5.8276 - val_accuracy: 0.6923\n",
      "Epoch 24/30\n",
      "6/6 [==============================] - 0s 7ms/step - loss: -9.1589 - accuracy: 0.7237 - val_loss: -6.7179 - val_accuracy: 0.7179\n",
      "Epoch 25/30\n",
      "6/6 [==============================] - 0s 7ms/step - loss: -10.6456 - accuracy: 0.7237 - val_loss: -7.7354 - val_accuracy: 0.7179\n",
      "Epoch 26/30\n",
      "6/6 [==============================] - 0s 8ms/step - loss: -12.2665 - accuracy: 0.7237 - val_loss: -8.8503 - val_accuracy: 0.7179\n",
      "Epoch 27/30\n",
      "6/6 [==============================] - 0s 7ms/step - loss: -14.1902 - accuracy: 0.7237 - val_loss: -10.0424 - val_accuracy: 0.6923\n",
      "Epoch 28/30\n",
      "6/6 [==============================] - 0s 7ms/step - loss: -16.2225 - accuracy: 0.7237 - val_loss: -11.4045 - val_accuracy: 0.6923\n",
      "Epoch 29/30\n",
      "6/6 [==============================] - 0s 7ms/step - loss: -18.4632 - accuracy: 0.7303 - val_loss: -12.9509 - val_accuracy: 0.6923\n",
      "Epoch 30/30\n",
      "6/6 [==============================] - 0s 7ms/step - loss: -21.0100 - accuracy: 0.7303 - val_loss: -14.5834 - val_accuracy: 0.6923\n",
      "2/2 [==============================] - 0s 2ms/step - loss: -13.0219 - accuracy: 0.6458\n",
      "Test Loss: -13.02188777923584, Test Accuracy: 0.6458333134651184\n"
     ]
    }
   ],
   "source": [
    "from tensorflow.keras.optimizers import Adam\n",
    "from tensorflow.keras.callbacks import EarlyStopping\n",
    "scaler = StandardScaler()\n",
    "X_train_scaled = scaler.fit_transform(X_train)\n",
    "X_test_scaled = scaler.transform(X_test)\n",
    "\n",
    "# Define the model\n",
    "model = Sequential([\n",
    "    Dense(64, input_shape=(X_train.shape[1],), activation='relu'),\n",
    "    Dense(32, activation='relu'),\n",
    "    Dense(1, activation='sigmoid')\n",
    "])\n",
    "\n",
    "# Compile the model with Adam optimizer and binary cross-entropy loss\n",
    "model.compile(optimizer=Adam(lr=0.001), loss='binary_crossentropy', metrics=['accuracy'])\n",
    "\n",
    "# Define early stopping criteria\n",
    "early_stopping = EarlyStopping(monitor='val_loss', patience=5, restore_best_weights=True)\n",
    "\n",
    "# Train the model with early stopping\n",
    "history = model.fit(X_train_scaled, y_train, epochs=30, batch_size=28, validation_split=0.2, callbacks=[early_stopping])\n",
    "\n",
    "# Evaluate the model on test data\n",
    "loss, accuracy = model.evaluate(X_test_scaled, y_test)\n",
    "print(f'Test Loss: {loss}, Test Accuracy: {accuracy}')\n"
   ]
  },
  {
   "cell_type": "code",
   "execution_count": null,
   "id": "02e98ec6",
   "metadata": {},
   "outputs": [],
   "source": []
  },
  {
   "cell_type": "markdown",
   "id": "ffac11c9",
   "metadata": {},
   "source": [
    "DENSENET"
   ]
  },
  {
   "cell_type": "code",
   "execution_count": 5,
   "id": "e7e9081c",
   "metadata": {},
   "outputs": [],
   "source": [
    "import numpy as np\n",
    "# y=np.array(y,dtype=float)\n",
    "# np.save('target.npy',y)\n",
    "y=np.load('target.npy')\n",
    "data2=np.load('data2.npy')"
   ]
  },
  {
   "cell_type": "code",
   "execution_count": null,
   "id": "6e5c6070",
   "metadata": {},
   "outputs": [],
   "source": []
  },
  {
   "cell_type": "code",
   "execution_count": 6,
   "id": "f0a29980",
   "metadata": {},
   "outputs": [
    {
     "name": "stderr",
     "output_type": "stream",
     "text": [
      "D:\\anaconda\\lib\\site-packages\\scipy\\__init__.py:146: UserWarning: A NumPy version >=1.16.5 and <1.23.0 is required for this version of SciPy (detected version 1.24.3\n",
      "  warnings.warn(f\"A NumPy version >={np_minversion} and <{np_maxversion}\"\n"
     ]
    },
    {
     "data": {
      "text/plain": [
       "239"
      ]
     },
     "execution_count": 6,
     "metadata": {},
     "output_type": "execute_result"
    }
   ],
   "source": [
    "from tensorflow.keras.utils import to_categorical\n",
    "data2= data2.astype('float32') / 255.0\n",
    "labels = to_categorical(y)\n",
    "len(labels)"
   ]
  },
  {
   "cell_type": "code",
   "execution_count": 7,
   "id": "0c3432c3",
   "metadata": {},
   "outputs": [],
   "source": [
    "from sklearn.model_selection import train_test_split\n",
    "train_data, val_data, train_labels, val_labels = train_test_split(data2, labels, test_size=0.2, random_state=42)"
   ]
  },
  {
   "cell_type": "code",
   "execution_count": 8,
   "id": "afce8f6b",
   "metadata": {},
   "outputs": [],
   "source": [
    "import tensorflow as tf\n",
    "from tensorflow.keras.applications import DenseNet121\n",
    "from tensorflow.keras.layers import Dense, GlobalAveragePooling2D\n",
    "from tensorflow.keras.models import Model\n",
    "from tensorflow.keras.optimizers import Adam\n",
    "base_model = DenseNet121(weights='imagenet', include_top=False, input_shape=(224, 224, 3))\n",
    "x = base_model.output\n",
    "x = GlobalAveragePooling2D()(x)\n",
    "x = Dense(1024, activation='relu')(x)\n",
    "\n",
    "predictions = Dense(3, activation='softmax')(x)\n",
    "model = Model(inputs=base_model.input, outputs=predictions)\n",
    "model.compile(optimizer=Adam(learning_rate=0.0001), loss='categorical_crossentropy', metrics=['accuracy'])\n"
   ]
  },
  {
   "cell_type": "code",
   "execution_count": 9,
   "id": "9cce55b3",
   "metadata": {},
   "outputs": [
    {
     "name": "stdout",
     "output_type": "stream",
     "text": [
      "(191, 224, 224, 3)\n",
      "(191, 3)\n"
     ]
    }
   ],
   "source": [
    "print(train_data.shape)\n",
    "print(train_labels.shape)"
   ]
  },
  {
   "cell_type": "code",
   "execution_count": 11,
   "id": "158cba27",
   "metadata": {},
   "outputs": [
    {
     "name": "stdout",
     "output_type": "stream",
     "text": [
      "Epoch 1/5\n",
      "6/6 [==============================] - 111s 18s/step - loss: 0.4619 - accuracy: 0.8586 - val_loss: 1.0715 - val_accuracy: 0.4792\n",
      "Epoch 2/5\n",
      "6/6 [==============================] - 104s 17s/step - loss: 0.2796 - accuracy: 0.9267 - val_loss: 1.0064 - val_accuracy: 0.5625\n",
      "Epoch 3/5\n",
      "6/6 [==============================] - 109s 18s/step - loss: 0.1741 - accuracy: 0.9476 - val_loss: 0.9457 - val_accuracy: 0.6042\n",
      "Epoch 4/5\n",
      "6/6 [==============================] - 124s 20s/step - loss: 0.1545 - accuracy: 0.9476 - val_loss: 0.9529 - val_accuracy: 0.6667\n",
      "Epoch 5/5\n",
      "6/6 [==============================] - 103s 17s/step - loss: 0.1031 - accuracy: 0.9476 - val_loss: 1.0149 - val_accuracy: 0.6875\n"
     ]
    }
   ],
   "source": [
    "history = model.fit(train_data, train_labels, batch_size=32, epochs=5, validation_data=(val_data, val_labels))"
   ]
  },
  {
   "cell_type": "code",
   "execution_count": 13,
   "id": "09248970",
   "metadata": {},
   "outputs": [
    {
     "ename": "ValueError",
     "evalue": "in user code:\n\n    File \"D:\\anaconda\\lib\\site-packages\\keras\\src\\engine\\training.py\", line 2341, in predict_function  *\n        return step_function(self, iterator)\n    File \"D:\\anaconda\\lib\\site-packages\\keras\\src\\engine\\training.py\", line 2327, in step_function  **\n        outputs = model.distribute_strategy.run(run_step, args=(data,))\n    File \"D:\\anaconda\\lib\\site-packages\\keras\\src\\engine\\training.py\", line 2315, in run_step  **\n        outputs = model.predict_step(data)\n    File \"D:\\anaconda\\lib\\site-packages\\keras\\src\\engine\\training.py\", line 2283, in predict_step\n        return self(x, training=False)\n    File \"D:\\anaconda\\lib\\site-packages\\keras\\src\\utils\\traceback_utils.py\", line 70, in error_handler\n        raise e.with_traceback(filtered_tb) from None\n    File \"D:\\anaconda\\lib\\site-packages\\keras\\src\\engine\\input_spec.py\", line 298, in assert_input_compatibility\n        raise ValueError(\n\n    ValueError: Input 0 of layer \"model\" is incompatible with the layer: expected shape=(None, 224, 224, 3), found shape=(32, 224, 3)\n",
     "output_type": "error",
     "traceback": [
      "\u001b[1;31m---------------------------------------------------------------------------\u001b[0m",
      "\u001b[1;31mValueError\u001b[0m                                Traceback (most recent call last)",
      "\u001b[1;32m~\\AppData\\Local\\Temp/ipykernel_2544/1264517681.py\u001b[0m in \u001b[0;36m<module>\u001b[1;34m\u001b[0m\n\u001b[1;32m----> 1\u001b[1;33m \u001b[0mpredictions\u001b[0m\u001b[1;33m=\u001b[0m\u001b[0mmodel\u001b[0m\u001b[1;33m.\u001b[0m\u001b[0mpredict\u001b[0m\u001b[1;33m(\u001b[0m\u001b[0mtrain_data\u001b[0m\u001b[1;33m[\u001b[0m\u001b[1;36m2\u001b[0m\u001b[1;33m]\u001b[0m\u001b[1;33m)\u001b[0m\u001b[1;33m\u001b[0m\u001b[1;33m\u001b[0m\u001b[0m\n\u001b[0m\u001b[0;32m      2\u001b[0m \u001b[0mpredictions\u001b[0m\u001b[1;33m\u001b[0m\u001b[1;33m\u001b[0m\u001b[0m\n",
      "\u001b[1;32mD:\\anaconda\\lib\\site-packages\\keras\\src\\utils\\traceback_utils.py\u001b[0m in \u001b[0;36merror_handler\u001b[1;34m(*args, **kwargs)\u001b[0m\n\u001b[0;32m     68\u001b[0m             \u001b[1;31m# To get the full stack trace, call:\u001b[0m\u001b[1;33m\u001b[0m\u001b[1;33m\u001b[0m\u001b[0m\n\u001b[0;32m     69\u001b[0m             \u001b[1;31m# `tf.debugging.disable_traceback_filtering()`\u001b[0m\u001b[1;33m\u001b[0m\u001b[1;33m\u001b[0m\u001b[0m\n\u001b[1;32m---> 70\u001b[1;33m             \u001b[1;32mraise\u001b[0m \u001b[0me\u001b[0m\u001b[1;33m.\u001b[0m\u001b[0mwith_traceback\u001b[0m\u001b[1;33m(\u001b[0m\u001b[0mfiltered_tb\u001b[0m\u001b[1;33m)\u001b[0m \u001b[1;32mfrom\u001b[0m \u001b[1;32mNone\u001b[0m\u001b[1;33m\u001b[0m\u001b[1;33m\u001b[0m\u001b[0m\n\u001b[0m\u001b[0;32m     71\u001b[0m         \u001b[1;32mfinally\u001b[0m\u001b[1;33m:\u001b[0m\u001b[1;33m\u001b[0m\u001b[1;33m\u001b[0m\u001b[0m\n\u001b[0;32m     72\u001b[0m             \u001b[1;32mdel\u001b[0m \u001b[0mfiltered_tb\u001b[0m\u001b[1;33m\u001b[0m\u001b[1;33m\u001b[0m\u001b[0m\n",
      "\u001b[1;32mD:\\anaconda\\lib\\site-packages\\keras\\src\\engine\\training.py\u001b[0m in \u001b[0;36mtf__predict_function\u001b[1;34m(iterator)\u001b[0m\n\u001b[0;32m     13\u001b[0m                 \u001b[1;32mtry\u001b[0m\u001b[1;33m:\u001b[0m\u001b[1;33m\u001b[0m\u001b[1;33m\u001b[0m\u001b[0m\n\u001b[0;32m     14\u001b[0m                     \u001b[0mdo_return\u001b[0m \u001b[1;33m=\u001b[0m \u001b[1;32mTrue\u001b[0m\u001b[1;33m\u001b[0m\u001b[1;33m\u001b[0m\u001b[0m\n\u001b[1;32m---> 15\u001b[1;33m                     \u001b[0mretval_\u001b[0m \u001b[1;33m=\u001b[0m \u001b[0mag__\u001b[0m\u001b[1;33m.\u001b[0m\u001b[0mconverted_call\u001b[0m\u001b[1;33m(\u001b[0m\u001b[0mag__\u001b[0m\u001b[1;33m.\u001b[0m\u001b[0mld\u001b[0m\u001b[1;33m(\u001b[0m\u001b[0mstep_function\u001b[0m\u001b[1;33m)\u001b[0m\u001b[1;33m,\u001b[0m \u001b[1;33m(\u001b[0m\u001b[0mag__\u001b[0m\u001b[1;33m.\u001b[0m\u001b[0mld\u001b[0m\u001b[1;33m(\u001b[0m\u001b[0mself\u001b[0m\u001b[1;33m)\u001b[0m\u001b[1;33m,\u001b[0m \u001b[0mag__\u001b[0m\u001b[1;33m.\u001b[0m\u001b[0mld\u001b[0m\u001b[1;33m(\u001b[0m\u001b[0miterator\u001b[0m\u001b[1;33m)\u001b[0m\u001b[1;33m)\u001b[0m\u001b[1;33m,\u001b[0m \u001b[1;32mNone\u001b[0m\u001b[1;33m,\u001b[0m \u001b[0mfscope\u001b[0m\u001b[1;33m)\u001b[0m\u001b[1;33m\u001b[0m\u001b[1;33m\u001b[0m\u001b[0m\n\u001b[0m\u001b[0;32m     16\u001b[0m                 \u001b[1;32mexcept\u001b[0m\u001b[1;33m:\u001b[0m\u001b[1;33m\u001b[0m\u001b[1;33m\u001b[0m\u001b[0m\n\u001b[0;32m     17\u001b[0m                     \u001b[0mdo_return\u001b[0m \u001b[1;33m=\u001b[0m \u001b[1;32mFalse\u001b[0m\u001b[1;33m\u001b[0m\u001b[1;33m\u001b[0m\u001b[0m\n",
      "\u001b[1;31mValueError\u001b[0m: in user code:\n\n    File \"D:\\anaconda\\lib\\site-packages\\keras\\src\\engine\\training.py\", line 2341, in predict_function  *\n        return step_function(self, iterator)\n    File \"D:\\anaconda\\lib\\site-packages\\keras\\src\\engine\\training.py\", line 2327, in step_function  **\n        outputs = model.distribute_strategy.run(run_step, args=(data,))\n    File \"D:\\anaconda\\lib\\site-packages\\keras\\src\\engine\\training.py\", line 2315, in run_step  **\n        outputs = model.predict_step(data)\n    File \"D:\\anaconda\\lib\\site-packages\\keras\\src\\engine\\training.py\", line 2283, in predict_step\n        return self(x, training=False)\n    File \"D:\\anaconda\\lib\\site-packages\\keras\\src\\utils\\traceback_utils.py\", line 70, in error_handler\n        raise e.with_traceback(filtered_tb) from None\n    File \"D:\\anaconda\\lib\\site-packages\\keras\\src\\engine\\input_spec.py\", line 298, in assert_input_compatibility\n        raise ValueError(\n\n    ValueError: Input 0 of layer \"model\" is incompatible with the layer: expected shape=(None, 224, 224, 3), found shape=(32, 224, 3)\n"
     ]
    }
   ],
   "source": [
    "predictions=model.predict(train_data[2])\n",
    "predictions"
   ]
  },
  {
   "cell_type": "code",
   "execution_count": 1,
   "id": "b6fc63c6",
   "metadata": {},
   "outputs": [
    {
     "name": "stdout",
     "output_type": "stream",
     "text": [
      "Name: keras\n",
      "Version: 3.3.3\n",
      "Summary: Multi-backend Keras.\n",
      "Note: you may need to restart the kernel to use updated packages.\n"
     ]
    },
    {
     "name": "stderr",
     "output_type": "stream",
     "text": [
      "WARNING: Ignoring invalid distribution -ensorflow-intel (d:\\anaconda\\lib\\site-packages)\n"
     ]
    },
    {
     "name": "stdout",
     "output_type": "stream",
     "text": [
      "Home-page: https://github.com/keras-team/keras\n",
      "Author: Keras team\n",
      "Author-email: keras-users@googlegroups.com\n",
      "License: Apache License 2.0\n",
      "Location: d:\\anaconda\\lib\\site-packages\n",
      "Requires: namex, h5py, ml-dtypes, numpy, optree, rich, absl-py\n",
      "Required-by: tensorflow-intel\n"
     ]
    }
   ],
   "source": [
    "pip show keras\n"
   ]
  },
  {
   "cell_type": "code",
   "execution_count": null,
   "id": "f47b7f2c",
   "metadata": {},
   "outputs": [],
   "source": [
    "pip install keras==<2.13.1>\n"
   ]
  }
 ],
 "metadata": {
  "kernelspec": {
   "display_name": "Python 3 (ipykernel)",
   "language": "python",
   "name": "python3"
  },
  "language_info": {
   "codemirror_mode": {
    "name": "ipython",
    "version": 3
   },
   "file_extension": ".py",
   "mimetype": "text/x-python",
   "name": "python",
   "nbconvert_exporter": "python",
   "pygments_lexer": "ipython3",
   "version": "3.9.7"
  }
 },
 "nbformat": 4,
 "nbformat_minor": 5
}
