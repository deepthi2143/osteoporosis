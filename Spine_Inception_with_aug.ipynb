{
 "cells": [
  {
   "cell_type": "code",
   "execution_count": 1,
   "id": "bcf17a79",
   "metadata": {},
   "outputs": [
    {
     "name": "stderr",
     "output_type": "stream",
     "text": [
      "D:\\anaconda\\lib\\site-packages\\scipy\\__init__.py:146: UserWarning: A NumPy version >=1.16.5 and <1.23.0 is required for this version of SciPy (detected version 1.24.3\n",
      "  warnings.warn(f\"A NumPy version >={np_minversion} and <{np_maxversion}\"\n"
     ]
    },
    {
     "name": "stdout",
     "output_type": "stream",
     "text": [
      "<DirEntry 'normal'>\n",
      "<DirEntry 'osteophenia'>\n",
      "<DirEntry 'osteoporosis'>\n"
     ]
    }
   ],
   "source": [
    "import cv2\n",
    "import os\n",
    "import numpy as np\n",
    "import tensorflow as tf\n",
    "from sklearn.model_selection import train_test_split\n",
    "from keras.preprocessing.image import ImageDataGenerator\n",
    "from tensorflow.keras.layers import Conv2D, MaxPooling2D, Dropout, Flatten, Dense\n",
    "from tensorflow.keras.callbacks import EarlyStopping, ModelCheckpoint\n",
    "from tensorflow.keras import optimizers\n",
    "\n",
    "import os\n",
    "\n",
    "import cv2\n",
    "import numpy as np\n",
    "from sklearn.model_selection import train_test_split\n",
    "from tensorflow.keras.preprocessing.image import ImageDataGenerator\n",
    "\n",
    "IMG_SIZE = 224\n",
    "\n",
    "data_dir = 'Spine/'\n",
    "\n",
    "X = []\n",
    "y = []\n",
    "for folder in os.scandir(data_dir):\n",
    "    print(folder)\n",
    "\n",
    "    for entry in os.scandir(data_dir + folder.name):\n",
    "        img = cv2.imread(data_dir + folder.name + '/' + entry.name, cv2.IMREAD_COLOR)  # Read image using OpenCV\n",
    "        img = cv2.resize(img, (IMG_SIZE, IMG_SIZE))\n",
    "        img = np.array(img, dtype='float32')\n",
    "        img = img / 255\n",
    "        X.append(img)\n",
    "        if folder.name == 'normal':\n",
    "            y.append(0)\n",
    "        elif folder.name == 'osteophenia':\n",
    "            y.append(1)\n",
    "        else:\n",
    "            y.append(2)\n",
    "\n",
    "X = np.array(X)\n",
    "y = np.array(y)\n",
    "\n",
    "datagen = ImageDataGenerator(\n",
    "    rotation_range=20,\n",
    "    width_shift_range=0.1,\n",
    "    height_shift_range=0.1,\n",
    "    shear_range=0.2,\n",
    "    zoom_range=0.2,\n",
    "    horizontal_flip=True,\n",
    "    fill_mode='nearest')\n",
    "\n",
    "batch_size = 32\n",
    "num_batches = 60  \n",
    "\n",
    "augmented_images = []\n",
    "augmented_labels = []\n",
    "for _ in range(num_batches):\n",
    "    X_batch, y_batch = next(datagen.flow(X, y, batch_size=batch_size, shuffle=False))\n",
    "    augmented_images.append(X_batch)\n",
    "    augmented_labels.append(y_batch)\n",
    "\n",
    "X_aug= np.concatenate(augmented_images, axis=0)\n",
    "y_aug = np.concatenate(augmented_labels, axis=0)\n",
    "X_augu = np.concatenate((X, X_aug), axis=0)\n",
    "y_augu=np.concatenate((y, y_aug), axis=0)\n",
    "\n"
   ]
  },
  {
   "cell_type": "code",
   "execution_count": 3,
   "id": "905ba9b1",
   "metadata": {},
   "outputs": [],
   "source": [
    "\n",
    "import tensorflow as tf\n",
    "from tensorflow.keras.applications import InceptionV3\n",
    "from tensorflow.keras.layers import Dense, GlobalAveragePooling2D, Dropout\n",
    "from tensorflow.keras.models import Model\n",
    "from tensorflow.keras.optimizers import Adam\n",
    "\n",
    "base_model = InceptionV3(weights='imagenet', include_top=False, input_shape=(224, 224, 3))\n",
    "x = base_model.output\n",
    "x = GlobalAveragePooling2D()(x)\n",
    "x = Dense(1024, activation='relu')(x)\n",
    "x = Dropout(0.5)(x)\n",
    "x = Dense(512, activation='relu')(x)\n",
    "x = Dropout(0.5)(x) \n",
    "x = Dense(128, activation='relu')(x)\n",
    "predictions = Dense(3, activation='softmax')(x)\n",
    "\n",
    "model = Model(inputs=base_model.input, outputs=predictions)\n",
    "\n",
    "for layer in base_model.layers:\n",
    "    layer.trainable = False\n",
    "\n",
    "opt = Adam(learning_rate=0.01)\n",
    "model.compile(loss='sparse_categorical_crossentropy', optimizer=opt, metrics=[\"accuracy\"])\n"
   ]
  },
  {
   "cell_type": "code",
   "execution_count": 4,
   "id": "fca6182b",
   "metadata": {},
   "outputs": [
    {
     "name": "stdout",
     "output_type": "stream",
     "text": [
      "Epoch 1/10\n",
      "42/42 [==============================] - 56s 1s/step - loss: 5.3296 - accuracy: 0.8881 - val_loss: 0.3008 - val_accuracy: 0.9463\n",
      "Epoch 2/10\n",
      "42/42 [==============================] - 50s 1s/step - loss: 0.3343 - accuracy: 0.9410 - val_loss: 0.2021 - val_accuracy: 0.9463\n",
      "Epoch 3/10\n",
      "42/42 [==============================] - 51s 1s/step - loss: 0.2409 - accuracy: 0.9440 - val_loss: 0.1797 - val_accuracy: 0.9463\n",
      "Epoch 4/10\n",
      "42/42 [==============================] - 51s 1s/step - loss: 0.2276 - accuracy: 0.9455 - val_loss: 0.1719 - val_accuracy: 0.9463\n",
      "Epoch 5/10\n",
      "42/42 [==============================] - 50s 1s/step - loss: 0.2184 - accuracy: 0.9433 - val_loss: 0.1712 - val_accuracy: 0.9463\n",
      "Epoch 6/10\n",
      "42/42 [==============================] - 49s 1s/step - loss: 0.2658 - accuracy: 0.9448 - val_loss: 0.2666 - val_accuracy: 0.9463\n",
      "Epoch 7/10\n",
      "42/42 [==============================] - 49s 1s/step - loss: 0.2926 - accuracy: 0.9448 - val_loss: 0.2477 - val_accuracy: 0.9463\n",
      "Epoch 8/10\n",
      "42/42 [==============================] - 49s 1s/step - loss: 0.2462 - accuracy: 0.9440 - val_loss: 0.1924 - val_accuracy: 0.9463\n",
      "Epoch 9/10\n",
      "42/42 [==============================] - 49s 1s/step - loss: 0.2148 - accuracy: 0.9440 - val_loss: 0.1795 - val_accuracy: 0.9463\n",
      "Epoch 10/10\n",
      "42/42 [==============================] - 51s 1s/step - loss: 0.2070 - accuracy: 0.9455 - val_loss: 0.1761 - val_accuracy: 0.9463\n"
     ]
    }
   ],
   "source": [
    "\n",
    "X_train_val, X_test, y_train_val, y_test = train_test_split(X_augu, y_augu, test_size=0.2, shuffle=True, stratify=y_augu, random_state=123)\n",
    "\n",
    "X_train, X_val, y_train, y_val = train_test_split(X_train_val, y_train_val, test_size=0.2, shuffle=True, stratify=y_train_val, random_state=123)\n",
    "\n",
    "history = model.fit(X_train, y_train, epochs=10, validation_data=(X_val, y_val), batch_size=32, shuffle=True)\n"
   ]
  },
  {
   "cell_type": "code",
   "execution_count": 6,
   "id": "eeb9b439",
   "metadata": {},
   "outputs": [
    {
     "name": "stdout",
     "output_type": "stream",
     "text": [
      "11/11 [==============================] - 10s 876ms/step - loss: 0.1761 - accuracy: 0.9463\n",
      "Test Loss: 0.176095113158226\n",
      "Test Accuracy: 0.9462686777114868\n"
     ]
    }
   ],
   "source": [
    "\n",
    "test_loss, test_accuracy = model.evaluate(X_val,y_val)\n",
    "print(\"Test Loss:\", test_loss)\n",
    "print(\"Test Accuracy:\", test_accuracy)\n",
    "\n"
   ]
  },
  {
   "cell_type": "code",
   "execution_count": 7,
   "id": "83832126",
   "metadata": {},
   "outputs": [
    {
     "name": "stderr",
     "output_type": "stream",
     "text": [
      "D:\\anaconda\\lib\\site-packages\\keras\\src\\engine\\training.py:3000: UserWarning: You are saving your model as an HDF5 file via `model.save()`. This file format is considered legacy. We recommend using instead the native Keras format, e.g. `model.save('my_model.keras')`.\n",
      "  saving_api.save_model(\n"
     ]
    }
   ],
   "source": [
    "\n",
    "model.save('Spine_InceptionV3_with_aug.h5')\n",
    "\n"
   ]
  },
  {
   "cell_type": "code",
   "execution_count": null,
   "id": "936ae378",
   "metadata": {},
   "outputs": [],
   "source": []
  }
 ],
 "metadata": {
  "kernelspec": {
   "display_name": "Python 3 (ipykernel)",
   "language": "python",
   "name": "python3"
  },
  "language_info": {
   "codemirror_mode": {
    "name": "ipython",
    "version": 3
   },
   "file_extension": ".py",
   "mimetype": "text/x-python",
   "name": "python",
   "nbconvert_exporter": "python",
   "pygments_lexer": "ipython3",
   "version": "3.9.7"
  }
 },
 "nbformat": 4,
 "nbformat_minor": 5
}
