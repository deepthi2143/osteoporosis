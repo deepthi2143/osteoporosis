{
 "cells": [
  {
   "cell_type": "code",
   "execution_count": 1,
   "id": "77fa396c",
   "metadata": {},
   "outputs": [],
   "source": [
    "import cv2\n",
    "import os\n",
    "import numpy as np\n",
    "import tensorflow as tf\n",
    "from sklearn.model_selection import train_test_split\n",
    "from tensorflow.keras.preprocessing.image import ImageDataGenerator\n",
    "from tensorflow.keras.layers import Conv2D, MaxPooling2D, Dropout, Flatten, Dense\n",
    "from tensorflow.keras.callbacks import EarlyStopping, ModelCheckpoint\n",
    "from tensorflow.keras import optimizers"
   ]
  },
  {
   "cell_type": "code",
   "execution_count": 2,
   "id": "558411e2",
   "metadata": {},
   "outputs": [
    {
     "name": "stdout",
     "output_type": "stream",
     "text": [
      "Found 174 images belonging to 3 classes.\n",
      "Augmentation complete.\n"
     ]
    }
   ],
   "source": [
    "import os\n",
    "import numpy as np\n",
    "import tensorflow as tf\n",
    "from tensorflow.keras.preprocessing.image import ImageDataGenerator\n",
    "input_shape = (224, 224, 3) \n",
    "batch_size = 32\n",
    "num_classes = 3\n",
    "target_samples_per_class = 3000 // num_classes \n",
    "data_dir = \"Spine/\"\n",
    "train_datagen = ImageDataGenerator(\n",
    "    rescale=1./255,\n",
    "    rotation_range=15,\n",
    "    width_shift_range=0.2,\n",
    "    height_shift_range=0.2,\n",
    "    shear_range=0.2,\n",
    "    zoom_range=0.2,\n",
    "    horizontal_flip=True,\n",
    "    fill_mode='nearest'\n",
    ")\n",
    "# Load dataset\n",
    "train_generator = train_datagen.flow_from_directory(\n",
    "    data_dir,\n",
    "    target_size=input_shape[:2],\n",
    "    batch_size=batch_size,\n",
    "    class_mode='categorical',\n",
    "    shuffle=True\n",
    ")\n",
    "augmented_images = np.zeros((num_classes * target_samples_per_class, *input_shape))\n",
    "augmented_labels = np.zeros((num_classes * target_samples_per_class, num_classes))\n",
    "# Calculate the number of batches needed to reach the target number of samples per class\n",
    "total_batches_per_class = target_samples_per_class // batch_size\n",
    "extra_samples_per_class = target_samples_per_class % batch_size\n",
    "extra_batches_per_class = 1 if extra_samples_per_class > 0 else 0\n",
    "sample_index = 0\n",
    "for class_folder in os.listdir(data_dir):\n",
    "    class_dir = os.path.join(data_dir, class_folder)\n",
    "    num_samples = len(os.listdir(class_dir))\n",
    "    num_batches_needed = total_batches_per_class + extra_batches_per_class if num_samples < target_samples_per_class else 0\n",
    "    if num_batches_needed > 0:\n",
    "\n",
    "        for i in range(num_batches_needed):\n",
    "            batch = next(train_generator)\n",
    "            images = batch[0]\n",
    "            labels = batch[1]\n",
    "            for j in range(images.shape[0]):\n",
    "                if sample_index==3000:\n",
    "                    break\n",
    "                augmented_images[sample_index] = images[j]\n",
    "                augmented_labels[sample_index] = labels[j]\n",
    "                sample_index += 1         \n",
    "           \n",
    "print(\"Augmentation complete.\")"
   ]
  },
  {
   "cell_type": "code",
   "execution_count": 33,
   "id": "2be85283",
   "metadata": {},
   "outputs": [],
   "source": [
    "np.save('Augmented_images.npy', augmented_images)\n",
    "np.save('Augmented_labels.npy', augmented_labels)"
   ]
  },
  {
   "cell_type": "code",
   "execution_count": 3,
   "id": "590812fa",
   "metadata": {},
   "outputs": [],
   "source": [
    "X= augmented_images\n",
    "y =augmented_labels"
   ]
  },
  {
   "cell_type": "code",
   "execution_count": 31,
   "id": "a5285fac",
   "metadata": {},
   "outputs": [
    {
     "name": "stdout",
     "output_type": "stream",
     "text": [
      "{0: 1176, 1: 960, 2: 864}\n"
     ]
    }
   ],
   "source": [
    "len(augmented_images)\n",
    "d={0:0,1:0,2:0}\n",
    "for i in augmented_labels:\n",
    "    i=np.argmax(i)\n",
    "    d[i]+=1 \n",
    "print(d)\n",
    "\n"
   ]
  },
  {
   "cell_type": "code",
   "execution_count": 2,
   "id": "7792872b",
   "metadata": {},
   "outputs": [],
   "source": [
    "\n",
    "X=np.load('aug_images.npy')\n",
    "y=np.load('aug_labels.npy')"
   ]
  },
  {
   "cell_type": "code",
   "execution_count": 4,
   "id": "83b48075",
   "metadata": {},
   "outputs": [
    {
     "data": {
      "text/plain": [
       "array([2, 2, 1, ..., 0, 0, 0], dtype=int64)"
      ]
     },
     "execution_count": 4,
     "metadata": {},
     "output_type": "execute_result"
    }
   ],
   "source": [
    "y\n",
    "y= y.argmax(axis=1)\n",
    "y"
   ]
  },
  {
   "cell_type": "code",
   "execution_count": 5,
   "id": "33a82fe4",
   "metadata": {
    "scrolled": true
   },
   "outputs": [
    {
     "name": "stdout",
     "output_type": "stream",
     "text": [
      "Epoch 1/15\n",
      "60/60 [==============================] - 214s 3s/step - loss: 1.0746 - accuracy: 0.4250 - val_loss: 0.8959 - val_accuracy: 0.5458\n",
      "Epoch 2/15\n",
      "60/60 [==============================] - 209s 3s/step - loss: 0.9244 - accuracy: 0.5375 - val_loss: 0.8153 - val_accuracy: 0.6167\n",
      "Epoch 3/15\n",
      "60/60 [==============================] - 202s 3s/step - loss: 0.8226 - accuracy: 0.6010 - val_loss: 0.7188 - val_accuracy: 0.6646\n",
      "Epoch 4/15\n",
      "60/60 [==============================] - 210s 4s/step - loss: 0.7885 - accuracy: 0.6203 - val_loss: 0.7273 - val_accuracy: 0.6687\n",
      "Epoch 5/15\n",
      "60/60 [==============================] - 203s 3s/step - loss: 0.6958 - accuracy: 0.6792 - val_loss: 0.6520 - val_accuracy: 0.7104\n",
      "Epoch 6/15\n",
      "60/60 [==============================] - 202s 3s/step - loss: 0.6576 - accuracy: 0.6969 - val_loss: 0.6635 - val_accuracy: 0.7042\n",
      "Epoch 7/15\n",
      "60/60 [==============================] - 202s 3s/step - loss: 0.6344 - accuracy: 0.7344 - val_loss: 0.6127 - val_accuracy: 0.7646\n",
      "Epoch 8/15\n",
      "60/60 [==============================] - 203s 3s/step - loss: 0.5749 - accuracy: 0.7479 - val_loss: 0.5627 - val_accuracy: 0.7729\n",
      "Epoch 9/15\n",
      "60/60 [==============================] - 205s 3s/step - loss: 0.5392 - accuracy: 0.7672 - val_loss: 0.5740 - val_accuracy: 0.7521\n",
      "Epoch 10/15\n",
      "60/60 [==============================] - 202s 3s/step - loss: 0.4723 - accuracy: 0.8094 - val_loss: 0.5512 - val_accuracy: 0.7937\n",
      "Epoch 11/15\n",
      "60/60 [==============================] - 202s 3s/step - loss: 0.4332 - accuracy: 0.8161 - val_loss: 0.6885 - val_accuracy: 0.7021\n",
      "Epoch 12/15\n",
      "60/60 [==============================] - 198s 3s/step - loss: 0.4363 - accuracy: 0.8214 - val_loss: 0.5192 - val_accuracy: 0.7750\n",
      "Epoch 13/15\n",
      "60/60 [==============================] - 202s 3s/step - loss: 0.3956 - accuracy: 0.8255 - val_loss: 0.4951 - val_accuracy: 0.7812\n",
      "Epoch 14/15\n",
      "60/60 [==============================] - 201s 3s/step - loss: 0.3803 - accuracy: 0.8354 - val_loss: 0.5025 - val_accuracy: 0.7917\n",
      "Epoch 15/15\n",
      "60/60 [==============================] - 201s 3s/step - loss: 0.3227 - accuracy: 0.8802 - val_loss: 0.4923 - val_accuracy: 0.8062\n"
     ]
    }
   ],
   "source": [
    "import tensorflow as tf\n",
    "from tensorflow.keras.applications import DenseNet121\n",
    "from tensorflow.keras.layers import Dense, GlobalAveragePooling2D, Dropout\n",
    "from tensorflow.keras.models import Model\n",
    "from tensorflow.keras.optimizers import Adam\n",
    "from sklearn.preprocessing import LabelEncoder\n",
    "\n",
    "base_model = DenseNet121(weights='imagenet', include_top=False, input_shape=(224, 224, 3))\n",
    "x = base_model.output\n",
    "x = GlobalAveragePooling2D()(x)\n",
    "x = Dense(4096, activation='relu')(x)\n",
    "x = Dropout(0.5)(x)\n",
    "x = Dense(2048, activation='relu')(x)\n",
    "x = Dropout(0.5)(x) \n",
    "x = Dense(128, activation='relu')(x)\n",
    "predictions = Dense(3, activation='softmax')(x)\n",
    "\n",
    "model = Model(inputs=base_model.input, outputs=predictions)\n",
    "\n",
    "for layer in base_model.layers:\n",
    "    layer.trainable = False\n",
    "\n",
    "opt = Adam(learning_rate=0.0001)\n",
    "model.compile(loss='sparse_categorical_crossentropy', optimizer=opt, metrics=[\"accuracy\"])\n",
    "\n",
    "X_train_val, X_test, y_train_val, y_test = train_test_split(X, y, test_size=0.2, shuffle=True, stratify=y, random_state=123)\n",
    "# # Initialize LabelEncoder\n",
    "# label_encoder = LabelEncoder()\n",
    "\n",
    "# # Fit label encoder and transform labels to integers\n",
    "# y_train_val = label_encoder.fit_transform(y_train_val)\n",
    "# # y_val = label_encoder.transform(y_val)\n",
    "# y_test = label_encoder.transform(y_test)\n",
    "\n",
    "X_train, X_val, y_train, y_val = train_test_split(X_train_val, y_train_val, test_size=0.2, shuffle=True, stratify=y_train_val, random_state=123)\n",
    "\n",
    "history = model.fit(X_train, y_train, epochs=15, validation_data=(X_val, y_val), batch_size=32, shuffle=True)"
   ]
  },
  {
   "cell_type": "code",
   "execution_count": null,
   "id": "7ad09158",
   "metadata": {},
   "outputs": [],
   "source": []
  },
  {
   "cell_type": "code",
   "execution_count": 6,
   "id": "25de80eb",
   "metadata": {},
   "outputs": [
    {
     "name": "stdout",
     "output_type": "stream",
     "text": [
      "Epoch 1/5\n",
      "60/60 [==============================] - 199s 3s/step - loss: 0.3224 - accuracy: 0.8667 - val_loss: 0.5234 - val_accuracy: 0.7896\n",
      "Epoch 2/5\n",
      "60/60 [==============================] - 205s 3s/step - loss: 0.3252 - accuracy: 0.8745 - val_loss: 0.4849 - val_accuracy: 0.7917\n",
      "Epoch 3/5\n",
      "60/60 [==============================] - 208s 3s/step - loss: 0.2608 - accuracy: 0.9031 - val_loss: 0.4521 - val_accuracy: 0.8208\n",
      "Epoch 4/5\n",
      "60/60 [==============================] - 221s 4s/step - loss: 0.2736 - accuracy: 0.8948 - val_loss: 0.4748 - val_accuracy: 0.8021\n",
      "Epoch 5/5\n",
      "60/60 [==============================] - 209s 3s/step - loss: 0.2353 - accuracy: 0.9062 - val_loss: 0.4687 - val_accuracy: 0.8062\n"
     ]
    }
   ],
   "source": [
    "\n",
    "history1= model.fit(X_train, y_train, epochs=5, validation_data=(X_val, y_val), batch_size=32, shuffle=True)"
   ]
  },
  {
   "cell_type": "code",
   "execution_count": 7,
   "id": "5a52d3a0",
   "metadata": {},
   "outputs": [
    {
     "name": "stdout",
     "output_type": "stream",
     "text": [
      "Epoch 1/5\n",
      "60/60 [==============================] - 206s 3s/step - loss: 0.2146 - accuracy: 0.9193 - val_loss: 0.4366 - val_accuracy: 0.8250\n",
      "Epoch 2/5\n",
      "60/60 [==============================] - 203s 3s/step - loss: 0.1841 - accuracy: 0.9328 - val_loss: 0.4707 - val_accuracy: 0.8146\n",
      "Epoch 3/5\n",
      "60/60 [==============================] - 221s 4s/step - loss: 0.2042 - accuracy: 0.9187 - val_loss: 0.4172 - val_accuracy: 0.8417\n",
      "Epoch 4/5\n",
      "60/60 [==============================] - 203s 3s/step - loss: 0.2083 - accuracy: 0.9187 - val_loss: 0.4136 - val_accuracy: 0.8271\n",
      "Epoch 5/5\n",
      "60/60 [==============================] - 200s 3s/step - loss: 0.1580 - accuracy: 0.9391 - val_loss: 0.4447 - val_accuracy: 0.8271\n"
     ]
    }
   ],
   "source": [
    "\n",
    "history2= model.fit(X_train, y_train, epochs=5, validation_data=(X_val, y_val), batch_size=32, shuffle=True)"
   ]
  },
  {
   "cell_type": "code",
   "execution_count": 8,
   "id": "e06d2f4f",
   "metadata": {},
   "outputs": [
    {
     "name": "stdout",
     "output_type": "stream",
     "text": [
      "Epoch 1/5\n",
      "60/60 [==============================] - 209s 3s/step - loss: 0.1488 - accuracy: 0.9417 - val_loss: 0.4423 - val_accuracy: 0.8354\n",
      "Epoch 2/5\n",
      "60/60 [==============================] - 204s 3s/step - loss: 0.1391 - accuracy: 0.9505 - val_loss: 0.4785 - val_accuracy: 0.8375\n",
      "Epoch 3/5\n",
      "60/60 [==============================] - 209s 3s/step - loss: 0.1226 - accuracy: 0.9557 - val_loss: 0.4358 - val_accuracy: 0.8542\n",
      "Epoch 4/5\n",
      "60/60 [==============================] - 205s 3s/step - loss: 0.1250 - accuracy: 0.9557 - val_loss: 0.5612 - val_accuracy: 0.8125\n",
      "Epoch 5/5\n",
      "60/60 [==============================] - 206s 3s/step - loss: 0.1085 - accuracy: 0.9620 - val_loss: 0.4429 - val_accuracy: 0.8500\n"
     ]
    }
   ],
   "source": [
    "\n",
    "history3= model.fit(X_train, y_train, epochs=5, validation_data=(X_val, y_val), batch_size=32, shuffle=True)"
   ]
  },
  {
   "cell_type": "code",
   "execution_count": 9,
   "id": "2810a994",
   "metadata": {},
   "outputs": [
    {
     "name": "stdout",
     "output_type": "stream",
     "text": [
      "Epoch 1/5\n",
      "60/60 [==============================] - 210s 3s/step - loss: 0.0882 - accuracy: 0.9667 - val_loss: 0.4331 - val_accuracy: 0.8479\n",
      "Epoch 2/5\n",
      "60/60 [==============================] - 212s 4s/step - loss: 0.0859 - accuracy: 0.9693 - val_loss: 0.4318 - val_accuracy: 0.8604\n",
      "Epoch 3/5\n",
      "60/60 [==============================] - 207s 3s/step - loss: 0.1038 - accuracy: 0.9589 - val_loss: 0.4969 - val_accuracy: 0.8354\n",
      "Epoch 4/5\n",
      "60/60 [==============================] - 207s 3s/step - loss: 0.1223 - accuracy: 0.9521 - val_loss: 0.4640 - val_accuracy: 0.8458\n",
      "Epoch 5/5\n",
      "60/60 [==============================] - 203s 3s/step - loss: 0.0948 - accuracy: 0.9677 - val_loss: 0.4996 - val_accuracy: 0.8250\n"
     ]
    }
   ],
   "source": [
    "\n",
    "history4= model.fit(X_train, y_train, epochs=5, validation_data=(X_val, y_val), batch_size=32, shuffle=True)"
   ]
  },
  {
   "cell_type": "code",
   "execution_count": 10,
   "id": "5cfb7341",
   "metadata": {},
   "outputs": [
    {
     "name": "stdout",
     "output_type": "stream",
     "text": [
      "Epoch 1/5\n",
      "60/60 [==============================] - 204s 3s/step - loss: 0.0628 - accuracy: 0.9812 - val_loss: 0.4433 - val_accuracy: 0.8583\n",
      "Epoch 2/5\n",
      "60/60 [==============================] - 206s 3s/step - loss: 0.0651 - accuracy: 0.9755 - val_loss: 0.5380 - val_accuracy: 0.8417\n",
      "Epoch 3/5\n",
      "60/60 [==============================] - 203s 3s/step - loss: 0.0732 - accuracy: 0.9724 - val_loss: 0.4873 - val_accuracy: 0.8417\n",
      "Epoch 4/5\n",
      "60/60 [==============================] - 209s 3s/step - loss: 0.0931 - accuracy: 0.9677 - val_loss: 0.4754 - val_accuracy: 0.8500\n",
      "Epoch 5/5\n",
      "60/60 [==============================] - 214s 4s/step - loss: 0.0631 - accuracy: 0.9781 - val_loss: 0.4623 - val_accuracy: 0.8625\n"
     ]
    }
   ],
   "source": [
    "\n",
    "history5= model.fit(X_train, y_train, epochs=5, validation_data=(X_val, y_val), batch_size=32, shuffle=True)"
   ]
  },
  {
   "cell_type": "code",
   "execution_count": 19,
   "id": "6a53550d",
   "metadata": {},
   "outputs": [
    {
     "data": {
      "image/png": "[encoded data removed]",
      "text/plain": [
       "<Figure size 432x288 with 1 Axes>"
      ]
     },
     "metadata": {},
     "output_type": "display_data"
    },
    {
     "data": {
      "image/png": "[encoded data removed]",
      "text/plain": [
       "<Figure size 432x288 with 1 Axes>"
      ]
     },
     "metadata": {},
     "output_type": "display_data"
    }
   ],
   "source": [
    "import matplotlib.pyplot as plt\n",
    "\n",
    "def combine_histories(*histories):\n",
    "    combined_history = {}\n",
    "    for history in histories:\n",
    "        for key, value in history.history.items():\n",
    "            if key not in combined_history:\n",
    "                combined_history[key] = []\n",
    "            combined_history[key].extend(value)\n",
    "    return combined_history\n",
    "\n",
    "# Example usage\n",
    "combined_history = combine_histories(history, history1, history2,history3,history4,history5)  # Replace history, history1, history2, ... with your actual history variables\n",
    "\n",
    "# Plot combined history\n",
    "plt.plot(combined_history['loss'], label='Training Loss')\n",
    "plt.plot(combined_history['val_loss'], label='Validation Loss')\n",
    "plt.xlabel('Epochs')\n",
    "plt.ylabel('Loss')\n",
    "plt.legend()\n",
    "plt.show()\n",
    "plt.plot(combined_history['accuracy'], label='Training Accuracy')\n",
    "plt.plot(combined_history['val_accuracy'], label='Validation Accuracy')\n",
    "plt.xlabel('Epochs')\n",
    "plt.ylabel('Accuracy')\n",
    "plt.legend()\n",
    "plt.show()\n"
   ]
  },
  {
   "cell_type": "code",
   "execution_count": 21,
   "id": "19ba8b21",
   "metadata": {},
   "outputs": [
    {
     "name": "stdout",
     "output_type": "stream",
     "text": [
      "19/19 [==============================] - 49s 3s/step - loss: 0.4254 - accuracy: 0.8817\n",
      "Test Accuracy: 0.8816666603088379\n"
     ]
    }
   ],
   "source": [
    "test_loss, test_acc = model.evaluate(X_test,y_test)\n",
    "print('Test Accuracy:', test_acc)"
   ]
  },
  {
   "cell_type": "code",
   "execution_count": 24,
   "id": "95e62900",
   "metadata": {},
   "outputs": [
    {
     "name": "stdout",
     "output_type": "stream",
     "text": [
      "19/19 [==============================] - 50s 2s/step\n"
     ]
    }
   ],
   "source": [
    "y_pred=model.predict(X_test)"
   ]
  },
  {
   "cell_type": "code",
   "execution_count": 25,
   "id": "0bc915f9",
   "metadata": {},
   "outputs": [
    {
     "data": {
      "text/plain": [
       "array([[9.9987042e-01, 1.2946084e-04, 1.3168095e-07],\n",
       "       [2.7495690e-04, 3.3232702e-03, 9.9640179e-01],\n",
       "       [1.0000000e+00, 2.2938887e-10, 2.4369536e-08],\n",
       "       ...,\n",
       "       [2.7072369e-07, 9.9999857e-01, 1.1328441e-06],\n",
       "       [4.8075087e-04, 1.4665870e-03, 9.9805272e-01],\n",
       "       [1.0129673e-05, 3.2714385e-01, 6.7284602e-01]], dtype=float32)"
      ]
     },
     "execution_count": 25,
     "metadata": {},
     "output_type": "execute_result"
    }
   ],
   "source": [
    "y_pred"
   ]
  },
  {
   "cell_type": "code",
   "execution_count": 28,
   "id": "760e230c",
   "metadata": {},
   "outputs": [],
   "source": [
    "y_pred_v= y_pred.argmax(axis=1)"
   ]
  },
  {
   "cell_type": "code",
   "execution_count": 29,
   "id": "ae14a675",
   "metadata": {},
   "outputs": [
    {
     "name": "stdout",
     "output_type": "stream",
     "text": [
      "normal Accuracy: 0.9149\n",
      "osteophenia Accuracy: 0.8490\n",
      "osteporosis Accuracy: 0.8728\n"
     ]
    }
   ],
   "source": [
    "import numpy as np\n",
    "from sklearn.metrics import accuracy_score\n",
    "\n",
    "\n",
    "# Calculate accuracy for each class\n",
    "class_accuracies = []\n",
    "for class_label in range(3):\n",
    "    indices = np.where(y_test== class_label)[0]\n",
    "    class_predictions = y_pred_v[indices]\n",
    "    class_true_labels = y_test[indices]\n",
    "    class_accuracy = accuracy_score(class_true_labels, class_predictions)\n",
    "    class_accuracies.append(class_accuracy)\n",
    "\n",
    "# Print class-wise accuracies\n",
    "classes = ['normal', 'osteophenia', 'osteporosis']\n",
    "for i, class_accuracy in enumerate(class_accuracies):\n",
    "    print(f'{classes[i]} Accuracy: {class_accuracy:.4f}')\n"
   ]
  },
  {
   "cell_type": "code",
   "execution_count": 30,
   "id": "e2b8ea75",
   "metadata": {},
   "outputs": [
    {
     "name": "stderr",
     "output_type": "stream",
     "text": [
      "D:\\anaconda\\lib\\site-packages\\keras\\src\\engine\\training.py:3000: UserWarning: You are saving your model as an HDF5 file via `model.save()`. This file format is considered legacy. We recommend using instead the native Keras format, e.g. `model.save('my_model.keras')`.\n",
      "  saving_api.save_model(\n"
     ]
    }
   ],
   "source": [
    "model.save('M_SPINE_DNET_with_aug.h5')"
   ]
  },
  {
   "cell_type": "code",
   "execution_count": 1,
   "id": "acb4432a",
   "metadata": {},
   "outputs": [],
   "source": [
    "from tensorflow.keras.models import load_model\n",
    "\n",
    "# Load the saved model\n",
    "model = load_model('M_SPINE_DNET_with_aug.h5')  # Replace 'my_model.h5' with the path to your saved model file\n"
   ]
  },
  {
   "cell_type": "code",
   "execution_count": 2,
   "id": "594a807d",
   "metadata": {},
   "outputs": [
    {
     "ename": "NameError",
     "evalue": "name 'X_train' is not defined",
     "output_type": "error",
     "traceback": [
      "\u001b[1;31m---------------------------------------------------------------------------\u001b[0m",
      "\u001b[1;31mNameError\u001b[0m                                 Traceback (most recent call last)",
      "\u001b[1;32m~\\AppData\\Local\\Temp/ipykernel_28316/196975227.py\u001b[0m in \u001b[0;36m<module>\u001b[1;34m\u001b[0m\n\u001b[1;32m----> 1\u001b[1;33m \u001b[0mhistory6\u001b[0m\u001b[1;33m=\u001b[0m \u001b[0mmodel\u001b[0m\u001b[1;33m.\u001b[0m\u001b[0mfit\u001b[0m\u001b[1;33m(\u001b[0m\u001b[0mX_train\u001b[0m\u001b[1;33m,\u001b[0m \u001b[0my_train\u001b[0m\u001b[1;33m,\u001b[0m \u001b[0mepochs\u001b[0m\u001b[1;33m=\u001b[0m\u001b[1;36m10\u001b[0m\u001b[1;33m,\u001b[0m \u001b[0mvalidation_data\u001b[0m\u001b[1;33m=\u001b[0m\u001b[1;33m(\u001b[0m\u001b[0mX_val\u001b[0m\u001b[1;33m,\u001b[0m \u001b[0my_val\u001b[0m\u001b[1;33m)\u001b[0m\u001b[1;33m,\u001b[0m \u001b[0mbatch_size\u001b[0m\u001b[1;33m=\u001b[0m\u001b[1;36m32\u001b[0m\u001b[1;33m,\u001b[0m \u001b[0mshuffle\u001b[0m\u001b[1;33m=\u001b[0m\u001b[1;32mTrue\u001b[0m\u001b[1;33m)\u001b[0m\u001b[1;33m\u001b[0m\u001b[1;33m\u001b[0m\u001b[0m\n\u001b[0m",
      "\u001b[1;31mNameError\u001b[0m: name 'X_train' is not defined"
     ]
    }
   ],
   "source": []
  },
  {
   "cell_type": "code",
   "execution_count": 3,
   "id": "52260196",
   "metadata": {},
   "outputs": [],
   "source": [
    "import numpy as np\n",
    "# Load augmented_images array\n",
    "augmented_images = np.load('Augmented_images.npy')\n",
    "\n",
    "# Load augmented_labels array\n",
    "augmented_labels = np.load('Augmented_labels.npy')\n"
   ]
  },
  {
   "cell_type": "code",
   "execution_count": 5,
   "id": "875bd046",
   "metadata": {},
   "outputs": [],
   "source": [
    "import cv2\n",
    "import os\n",
    "import numpy as np\n",
    "import tensorflow as tf\n",
    "from sklearn.model_selection import train_test_split\n",
    "from tensorflow.keras.preprocessing.image import ImageDataGenerator\n",
    "from tensorflow.keras.layers import Conv2D, MaxPooling2D, Dropout, Flatten, Dense\n",
    "from tensorflow.keras.callbacks import EarlyStopping, ModelCheckpoint\n",
    "from tensorflow.keras import optimizers"
   ]
  },
  {
   "cell_type": "code",
   "execution_count": 6,
   "id": "bdb0e281",
   "metadata": {},
   "outputs": [
    {
     "name": "stdout",
     "output_type": "stream",
     "text": [
      "Epoch 1/10\n",
      "60/60 [==============================] - 216s 3s/step - loss: 0.0553 - accuracy: 0.9807 - val_loss: 0.5166 - val_accuracy: 0.8604\n",
      "Epoch 2/10\n",
      "60/60 [==============================] - 206s 3s/step - loss: 0.0591 - accuracy: 0.9781 - val_loss: 0.5221 - val_accuracy: 0.8542\n",
      "Epoch 3/10\n",
      "60/60 [==============================] - 203s 3s/step - loss: 0.0496 - accuracy: 0.9875 - val_loss: 0.5154 - val_accuracy: 0.8583\n",
      "Epoch 4/10\n",
      "60/60 [==============================] - 201s 3s/step - loss: 0.0603 - accuracy: 0.9776 - val_loss: 0.7958 - val_accuracy: 0.7979\n",
      "Epoch 5/10\n",
      "60/60 [==============================] - 200s 3s/step - loss: 0.0750 - accuracy: 0.9698 - val_loss: 0.4774 - val_accuracy: 0.8625\n",
      "Epoch 6/10\n",
      "60/60 [==============================] - 233s 4s/step - loss: 0.0899 - accuracy: 0.9672 - val_loss: 0.7347 - val_accuracy: 0.8000\n",
      "Epoch 7/10\n",
      "60/60 [==============================] - 236s 4s/step - loss: 0.0627 - accuracy: 0.9812 - val_loss: 0.4256 - val_accuracy: 0.8646\n",
      "Epoch 8/10\n",
      "60/60 [==============================] - 231s 4s/step - loss: 0.0334 - accuracy: 0.9891 - val_loss: 0.4613 - val_accuracy: 0.8583\n",
      "Epoch 9/10\n",
      "60/60 [==============================] - 230s 4s/step - loss: 0.0548 - accuracy: 0.9797 - val_loss: 0.5995 - val_accuracy: 0.8500\n",
      "Epoch 10/10\n",
      "60/60 [==============================] - 233s 4s/step - loss: 0.0476 - accuracy: 0.9833 - val_loss: 0.5109 - val_accuracy: 0.8646\n"
     ]
    }
   ],
   "source": [
    "X= augmented_images\n",
    "y =augmented_labels\n",
    "y= y.argmax(axis=1)\n",
    "\n",
    "X_train_val, X_test, y_train_val, y_test = train_test_split(X, y, test_size=0.2, shuffle=True, stratify=y, random_state=123)\n",
    "\n",
    "\n",
    "X_train, X_val, y_train, y_val = train_test_split(X_train_val, y_train_val, test_size=0.2, shuffle=True, stratify=y_train_val, random_state=123)\n",
    "\n",
    "history6 = model.fit(X_train, y_train, epochs=10, validation_data=(X_val, y_val), batch_size=32, shuffle=True)"
   ]
  },
  {
   "cell_type": "code",
   "execution_count": null,
   "id": "ff87da07",
   "metadata": {},
   "outputs": [],
   "source": []
  },
  {
   "cell_type": "code",
   "execution_count": null,
   "id": "abd8be4b",
   "metadata": {},
   "outputs": [],
   "source": []
  }
 ],
 "metadata": {
  "kernelspec": {
   "display_name": "Python 3 (ipykernel)",
   "language": "python",
   "name": "python3"
  },
  "language_info": {
   "codemirror_mode": {
    "name": "ipython",
    "version": 3
   },
   "file_extension": ".py",
   "mimetype": "text/x-python",
   "name": "python",
   "nbconvert_exporter": "python",
   "pygments_lexer": "ipython3",
   "version": "3.9.7"
  }
 },
 "nbformat": 4,
 "nbformat_minor": 5
}
