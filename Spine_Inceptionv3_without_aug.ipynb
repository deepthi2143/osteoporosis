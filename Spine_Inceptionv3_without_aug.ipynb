{
 "cells": [
  {
   "cell_type": "code",
   "execution_count": 1,
   "id": "23e2e33e",
   "metadata": {},
   "outputs": [
    {
     "name": "stderr",
     "output_type": "stream",
     "text": [
      "D:\\anaconda\\lib\\site-packages\\scipy\\__init__.py:146: UserWarning: A NumPy version >=1.16.5 and <1.23.0 is required for this version of SciPy (detected version 1.24.3\n",
      "  warnings.warn(f\"A NumPy version >={np_minversion} and <{np_maxversion}\"\n"
     ]
    },
    {
     "name": "stdout",
     "output_type": "stream",
     "text": [
      "<DirEntry 'normal'>\n",
      "<DirEntry 'osteophenia'>\n",
      "<DirEntry 'osteoporosis'>\n"
     ]
    }
   ],
   "source": [
    "import os\n",
    "import cv2\n",
    "import numpy as np\n",
    "from sklearn.model_selection import train_test_split\n",
    "from tensorflow.keras.preprocessing.image import ImageDataGenerator\n",
    "\n",
    "IMG_SIZE = 224\n",
    "\n",
    "data_dir = 'Spine/'\n",
    "\n",
    "X = []\n",
    "y = []\n",
    "\n",
    "# Load data\n",
    "for folder in os.scandir(data_dir):\n",
    "    print(folder)\n",
    "   \n",
    "    \n",
    "    for entry in os.scandir(data_dir + folder.name):\n",
    "        img = cv2.imread(data_dir + folder.name + '/' + entry.name, cv2.IMREAD_COLOR)  # Read image using OpenCV\n",
    "        img = cv2.resize(img, (IMG_SIZE, IMG_SIZE))\n",
    "        img = np.array(img, dtype='float32')\n",
    "        img = img / 255\n",
    "        X.append(img)\n",
    "        if folder.name == 'normal':\n",
    "            y.append(0)\n",
    "        elif folder.name == 'osteophenia':\n",
    "            y.append(1)\n",
    "        else:\n",
    "            y.append(2)\n",
    "X = np.array(X)\n",
    "y = np.array(y)\n",
    "\n",
    "\n"
   ]
  },
  {
   "cell_type": "code",
   "execution_count": 2,
   "id": "15573eb7",
   "metadata": {},
   "outputs": [
    {
     "name": "stdout",
     "output_type": "stream",
     "text": [
      "Downloading data from https://storage.googleapis.com/tensorflow/keras-applications/inception_v3/inception_v3_weights_tf_dim_ordering_tf_kernels_notop.h5\n",
      "87910968/87910968 [==============================] - 68s 1us/step\n",
      "Epoch 1/30\n",
      "5/5 [==============================] - 10s 1s/step - loss: 1.3222 - accuracy: 0.3237 - val_loss: 1.1186 - val_accuracy: 0.4286\n",
      "Epoch 2/30\n",
      "5/5 [==============================] - 5s 1s/step - loss: 1.3534 - accuracy: 0.3309 - val_loss: 1.1144 - val_accuracy: 0.3714\n",
      "Epoch 3/30\n",
      "5/5 [==============================] - 5s 1s/step - loss: 1.0721 - accuracy: 0.5180 - val_loss: 1.0973 - val_accuracy: 0.4571\n",
      "Epoch 4/30\n",
      "5/5 [==============================] - 6s 1s/step - loss: 1.1970 - accuracy: 0.3525 - val_loss: 1.0840 - val_accuracy: 0.4286\n",
      "Epoch 5/30\n",
      "5/5 [==============================] - 5s 1s/step - loss: 1.1569 - accuracy: 0.3885 - val_loss: 1.0831 - val_accuracy: 0.5143\n",
      "Epoch 6/30\n",
      "5/5 [==============================] - 5s 1s/step - loss: 1.1610 - accuracy: 0.4173 - val_loss: 1.0911 - val_accuracy: 0.4571\n",
      "Epoch 7/30\n",
      "5/5 [==============================] - 5s 1s/step - loss: 1.0586 - accuracy: 0.4317 - val_loss: 1.0834 - val_accuracy: 0.4571\n",
      "Epoch 8/30\n",
      "5/5 [==============================] - 5s 1s/step - loss: 1.0416 - accuracy: 0.5180 - val_loss: 1.0634 - val_accuracy: 0.4857\n",
      "Epoch 9/30\n",
      "5/5 [==============================] - 5s 1s/step - loss: 0.9854 - accuracy: 0.5252 - val_loss: 1.0676 - val_accuracy: 0.4286\n",
      "Epoch 10/30\n",
      "5/5 [==============================] - 5s 1s/step - loss: 1.0302 - accuracy: 0.5108 - val_loss: 1.0886 - val_accuracy: 0.3714\n",
      "Epoch 11/30\n",
      "5/5 [==============================] - 5s 1s/step - loss: 1.0417 - accuracy: 0.4892 - val_loss: 1.1039 - val_accuracy: 0.4286\n",
      "Epoch 12/30\n",
      "5/5 [==============================] - 5s 1s/step - loss: 1.0640 - accuracy: 0.4820 - val_loss: 1.0914 - val_accuracy: 0.4000\n",
      "Epoch 13/30\n",
      "5/5 [==============================] - 5s 1s/step - loss: 1.1228 - accuracy: 0.4317 - val_loss: 1.0837 - val_accuracy: 0.4857\n",
      "Epoch 14/30\n",
      "5/5 [==============================] - 5s 1s/step - loss: 0.9409 - accuracy: 0.5755 - val_loss: 1.0859 - val_accuracy: 0.4857\n",
      "Epoch 15/30\n",
      "5/5 [==============================] - 5s 1s/step - loss: 0.9351 - accuracy: 0.5468 - val_loss: 1.0824 - val_accuracy: 0.4857\n",
      "Epoch 16/30\n",
      "5/5 [==============================] - 5s 1s/step - loss: 0.9370 - accuracy: 0.5612 - val_loss: 1.0842 - val_accuracy: 0.4571\n",
      "Epoch 17/30\n",
      "5/5 [==============================] - 5s 1s/step - loss: 0.9989 - accuracy: 0.4892 - val_loss: 1.0818 - val_accuracy: 0.4571\n",
      "Epoch 18/30\n",
      "5/5 [==============================] - 5s 1s/step - loss: 0.8571 - accuracy: 0.6115 - val_loss: 1.0849 - val_accuracy: 0.4857\n",
      "Epoch 19/30\n",
      "5/5 [==============================] - 5s 1s/step - loss: 0.9442 - accuracy: 0.5180 - val_loss: 1.0852 - val_accuracy: 0.5143\n",
      "Epoch 20/30\n",
      "5/5 [==============================] - 6s 1s/step - loss: 0.9153 - accuracy: 0.5396 - val_loss: 1.0775 - val_accuracy: 0.4857\n",
      "Epoch 21/30\n",
      "5/5 [==============================] - 5s 1s/step - loss: 0.9083 - accuracy: 0.5468 - val_loss: 1.0942 - val_accuracy: 0.5143\n",
      "Epoch 22/30\n",
      "5/5 [==============================] - 5s 1s/step - loss: 0.8791 - accuracy: 0.6043 - val_loss: 1.1240 - val_accuracy: 0.4857\n",
      "Epoch 23/30\n",
      "5/5 [==============================] - 5s 1s/step - loss: 0.8391 - accuracy: 0.5971 - val_loss: 1.1399 - val_accuracy: 0.4571\n",
      "Epoch 24/30\n",
      "5/5 [==============================] - 5s 1s/step - loss: 0.9194 - accuracy: 0.5899 - val_loss: 1.1176 - val_accuracy: 0.4571\n",
      "Epoch 25/30\n",
      "5/5 [==============================] - 5s 1s/step - loss: 0.8299 - accuracy: 0.6331 - val_loss: 1.1023 - val_accuracy: 0.4857\n",
      "Epoch 26/30\n",
      "5/5 [==============================] - 5s 1s/step - loss: 0.8510 - accuracy: 0.6043 - val_loss: 1.1065 - val_accuracy: 0.4286\n",
      "Epoch 27/30\n",
      "5/5 [==============================] - 5s 1s/step - loss: 0.7928 - accuracy: 0.6331 - val_loss: 1.1187 - val_accuracy: 0.4857\n",
      "Epoch 28/30\n",
      "5/5 [==============================] - 5s 1s/step - loss: 0.8324 - accuracy: 0.6547 - val_loss: 1.1283 - val_accuracy: 0.4000\n",
      "Epoch 29/30\n",
      "5/5 [==============================] - 5s 1s/step - loss: 0.7916 - accuracy: 0.6619 - val_loss: 1.1534 - val_accuracy: 0.4000\n",
      "Epoch 30/30\n",
      "5/5 [==============================] - 5s 1s/step - loss: 0.8318 - accuracy: 0.6331 - val_loss: 1.1494 - val_accuracy: 0.4286\n"
     ]
    }
   ],
   "source": [
    "\n",
    "import tensorflow as tf\n",
    "from tensorflow.keras.applications import InceptionV3\n",
    "from tensorflow.keras.layers import Dense, GlobalAveragePooling2D, Dropout\n",
    "from tensorflow.keras.models import Model\n",
    "from tensorflow.keras.optimizers import Adam\n",
    "from sklearn.model_selection import train_test_split\n",
    "from tensorflow.keras.callbacks import ModelCheckpoint\n",
    "\n",
    "base_model = InceptionV3(weights='imagenet', include_top=False, input_shape=(224, 224, 3))\n",
    "\n",
    "x = base_model.output\n",
    "x = GlobalAveragePooling2D()(x)\n",
    "\n",
    "x = Dense(1024, activation='relu')(x)\n",
    "x = Dropout(0.5)(x)\n",
    "x = Dense(512, activation='relu')(x)\n",
    "x = Dropout(0.5)(x)\n",
    "\n",
    "x = Dense(128, activation='relu')(x)\n",
    "\n",
    "predictions = Dense(3, activation='softmax')(x)\n",
    "\n",
    "model = Model(inputs=base_model.input, outputs=predictions)\n",
    "\n",
    "for layer in base_model.layers:\n",
    "    layer.trainable = False\n",
    "\n",
    "opt = Adam(learning_rate=0.0001)\n",
    "model.compile(loss='sparse_categorical_crossentropy', optimizer=opt, metrics=[\"accuracy\"])\n",
    "\n",
    "X_train, X_val, y_train, y_val = train_test_split(X, y, test_size=0.2, shuffle=True, stratify=y, random_state=123)\n",
    "\n",
    "# Train the model with checkpoint callback\n",
    "history = model.fit(X_train, y_train, epochs=30, validation_data=(X_val, y_val), batch_size=32, shuffle=True)\n"
   ]
  },
  {
   "cell_type": "code",
   "execution_count": 3,
   "id": "29604896",
   "metadata": {},
   "outputs": [
    {
     "name": "stdout",
     "output_type": "stream",
     "text": [
      "Epoch 1/30\n",
      "5/5 [==============================] - 6s 1s/step - loss: 0.6982 - accuracy: 0.6906 - val_loss: 1.1351 - val_accuracy: 0.4857\n",
      "Epoch 2/30\n",
      "5/5 [==============================] - 5s 1s/step - loss: 0.7780 - accuracy: 0.6763 - val_loss: 1.1485 - val_accuracy: 0.4571\n",
      "Epoch 3/30\n",
      "5/5 [==============================] - 5s 1s/step - loss: 0.7535 - accuracy: 0.6547 - val_loss: 1.1865 - val_accuracy: 0.4571\n",
      "Epoch 4/30\n",
      "5/5 [==============================] - 5s 1s/step - loss: 0.6998 - accuracy: 0.6619 - val_loss: 1.1678 - val_accuracy: 0.4286\n",
      "Epoch 5/30\n",
      "5/5 [==============================] - 5s 1s/step - loss: 0.6703 - accuracy: 0.7266 - val_loss: 1.1646 - val_accuracy: 0.4571\n",
      "Epoch 6/30\n",
      "5/5 [==============================] - 5s 1s/step - loss: 0.7185 - accuracy: 0.6835 - val_loss: 1.1688 - val_accuracy: 0.4286\n",
      "Epoch 7/30\n",
      "5/5 [==============================] - 5s 1s/step - loss: 0.6722 - accuracy: 0.6906 - val_loss: 1.1610 - val_accuracy: 0.4857\n",
      "Epoch 8/30\n",
      "5/5 [==============================] - 5s 1s/step - loss: 0.6144 - accuracy: 0.7842 - val_loss: 1.1584 - val_accuracy: 0.4857\n",
      "Epoch 9/30\n",
      "5/5 [==============================] - 5s 1s/step - loss: 0.6193 - accuracy: 0.7266 - val_loss: 1.1735 - val_accuracy: 0.4857\n",
      "Epoch 10/30\n",
      "5/5 [==============================] - 5s 1s/step - loss: 0.5497 - accuracy: 0.8129 - val_loss: 1.1537 - val_accuracy: 0.5143\n",
      "Epoch 11/30\n",
      "5/5 [==============================] - 5s 1s/step - loss: 0.5922 - accuracy: 0.7482 - val_loss: 1.1591 - val_accuracy: 0.4857\n",
      "Epoch 12/30\n",
      "5/5 [==============================] - 5s 1s/step - loss: 0.5967 - accuracy: 0.7338 - val_loss: 1.2760 - val_accuracy: 0.4286\n",
      "Epoch 13/30\n",
      "5/5 [==============================] - 5s 1s/step - loss: 0.6427 - accuracy: 0.7554 - val_loss: 1.1641 - val_accuracy: 0.4857\n",
      "Epoch 14/30\n",
      "5/5 [==============================] - 5s 1s/step - loss: 0.5823 - accuracy: 0.7914 - val_loss: 1.1608 - val_accuracy: 0.5143\n",
      "Epoch 15/30\n",
      "5/5 [==============================] - 5s 1s/step - loss: 0.5463 - accuracy: 0.7698 - val_loss: 1.1835 - val_accuracy: 0.4286\n",
      "Epoch 16/30\n",
      "5/5 [==============================] - 5s 1s/step - loss: 0.5114 - accuracy: 0.8201 - val_loss: 1.2615 - val_accuracy: 0.3714\n",
      "Epoch 17/30\n",
      "5/5 [==============================] - 5s 1s/step - loss: 0.4956 - accuracy: 0.8058 - val_loss: 1.2194 - val_accuracy: 0.4571\n",
      "Epoch 18/30\n",
      "5/5 [==============================] - 5s 1s/step - loss: 0.5202 - accuracy: 0.8345 - val_loss: 1.2475 - val_accuracy: 0.4571\n",
      "Epoch 19/30\n",
      "5/5 [==============================] - 5s 1s/step - loss: 0.5785 - accuracy: 0.7626 - val_loss: 1.2795 - val_accuracy: 0.4286\n",
      "Epoch 20/30\n",
      "5/5 [==============================] - 5s 1s/step - loss: 0.4697 - accuracy: 0.8273 - val_loss: 1.2744 - val_accuracy: 0.4000\n",
      "Epoch 21/30\n",
      "5/5 [==============================] - 5s 1s/step - loss: 0.4367 - accuracy: 0.8633 - val_loss: 1.2770 - val_accuracy: 0.5143\n",
      "Epoch 22/30\n",
      "5/5 [==============================] - 5s 1s/step - loss: 0.4171 - accuracy: 0.8633 - val_loss: 1.3124 - val_accuracy: 0.4286\n",
      "Epoch 23/30\n",
      "5/5 [==============================] - 5s 1s/step - loss: 0.3738 - accuracy: 0.8849 - val_loss: 1.3285 - val_accuracy: 0.4286\n",
      "Epoch 24/30\n",
      "5/5 [==============================] - 5s 1s/step - loss: 0.4254 - accuracy: 0.8561 - val_loss: 1.2794 - val_accuracy: 0.4857\n",
      "Epoch 25/30\n",
      "5/5 [==============================] - 5s 1s/step - loss: 0.4052 - accuracy: 0.8561 - val_loss: 1.2542 - val_accuracy: 0.4857\n",
      "Epoch 26/30\n",
      "5/5 [==============================] - 5s 1s/step - loss: 0.3914 - accuracy: 0.8633 - val_loss: 1.2889 - val_accuracy: 0.4286\n",
      "Epoch 27/30\n",
      "5/5 [==============================] - 5s 1s/step - loss: 0.3208 - accuracy: 0.8849 - val_loss: 1.2812 - val_accuracy: 0.5143\n",
      "Epoch 28/30\n",
      "5/5 [==============================] - 5s 1s/step - loss: 0.3406 - accuracy: 0.8921 - val_loss: 1.3657 - val_accuracy: 0.4857\n",
      "Epoch 29/30\n",
      "5/5 [==============================] - 5s 1s/step - loss: 0.3025 - accuracy: 0.8993 - val_loss: 1.3379 - val_accuracy: 0.5143\n",
      "Epoch 30/30\n",
      "5/5 [==============================] - 5s 1s/step - loss: 0.3303 - accuracy: 0.9137 - val_loss: 1.3606 - val_accuracy: 0.4857\n"
     ]
    }
   ],
   "source": [
    "\n",
    "\n",
    "history1= model.fit(X_train, y_train, epochs=30, validation_data=(X_val, y_val), batch_size=32, shuffle=True)\n",
    "\n"
   ]
  },
  {
   "cell_type": "code",
   "execution_count": 4,
   "id": "fc319a6a",
   "metadata": {},
   "outputs": [
    {
     "name": "stdout",
     "output_type": "stream",
     "text": [
      "Epoch 1/20\n",
      "5/5 [==============================] - 6s 1s/step - loss: 0.4092 - accuracy: 0.8417 - val_loss: 1.3738 - val_accuracy: 0.4286\n",
      "Epoch 2/20\n",
      "5/5 [==============================] - 5s 1s/step - loss: 0.3442 - accuracy: 0.8489 - val_loss: 1.4512 - val_accuracy: 0.5714\n",
      "Epoch 3/20\n",
      "5/5 [==============================] - 5s 1s/step - loss: 0.3226 - accuracy: 0.8993 - val_loss: 1.3594 - val_accuracy: 0.5143\n",
      "Epoch 4/20\n",
      "5/5 [==============================] - 5s 1s/step - loss: 0.3117 - accuracy: 0.8849 - val_loss: 1.3767 - val_accuracy: 0.4286\n",
      "Epoch 5/20\n",
      "5/5 [==============================] - 5s 1s/step - loss: 0.2270 - accuracy: 0.9424 - val_loss: 1.4213 - val_accuracy: 0.5143\n",
      "Epoch 6/20\n",
      "5/5 [==============================] - 5s 1s/step - loss: 0.2384 - accuracy: 0.9353 - val_loss: 1.4344 - val_accuracy: 0.5143\n",
      "Epoch 7/20\n",
      "5/5 [==============================] - 5s 1s/step - loss: 0.2813 - accuracy: 0.9065 - val_loss: 1.3986 - val_accuracy: 0.5429\n",
      "Epoch 8/20\n",
      "5/5 [==============================] - 5s 1s/step - loss: 0.2954 - accuracy: 0.9137 - val_loss: 1.4120 - val_accuracy: 0.4857\n",
      "Epoch 9/20\n",
      "5/5 [==============================] - 5s 1s/step - loss: 0.2411 - accuracy: 0.9424 - val_loss: 1.4098 - val_accuracy: 0.4571\n",
      "Epoch 10/20\n",
      "5/5 [==============================] - 5s 1s/step - loss: 0.1943 - accuracy: 0.9568 - val_loss: 1.4315 - val_accuracy: 0.5143\n",
      "Epoch 11/20\n",
      "5/5 [==============================] - 5s 1s/step - loss: 0.2070 - accuracy: 0.9496 - val_loss: 1.3897 - val_accuracy: 0.5429\n",
      "Epoch 12/20\n",
      "5/5 [==============================] - 5s 1s/step - loss: 0.2348 - accuracy: 0.9209 - val_loss: 1.3588 - val_accuracy: 0.4857\n",
      "Epoch 13/20\n",
      "5/5 [==============================] - 5s 1s/step - loss: 0.2190 - accuracy: 0.9209 - val_loss: 1.3532 - val_accuracy: 0.6286\n",
      "Epoch 14/20\n",
      "5/5 [==============================] - 5s 1s/step - loss: 0.2156 - accuracy: 0.9353 - val_loss: 1.3502 - val_accuracy: 0.5143\n",
      "Epoch 15/20\n",
      "5/5 [==============================] - 5s 1s/step - loss: 0.1965 - accuracy: 0.9424 - val_loss: 1.4309 - val_accuracy: 0.5143\n",
      "Epoch 16/20\n",
      "5/5 [==============================] - 5s 1s/step - loss: 0.1934 - accuracy: 0.9640 - val_loss: 1.3949 - val_accuracy: 0.5143\n",
      "Epoch 17/20\n",
      "5/5 [==============================] - 5s 1s/step - loss: 0.1414 - accuracy: 0.9928 - val_loss: 1.3890 - val_accuracy: 0.5714\n",
      "Epoch 18/20\n",
      "5/5 [==============================] - 5s 1s/step - loss: 0.1636 - accuracy: 0.9856 - val_loss: 1.4366 - val_accuracy: 0.5714\n",
      "Epoch 19/20\n",
      "5/5 [==============================] - 5s 1s/step - loss: 0.1648 - accuracy: 0.9568 - val_loss: 1.4942 - val_accuracy: 0.6000\n",
      "Epoch 20/20\n",
      "5/5 [==============================] - 5s 1s/step - loss: 0.1389 - accuracy: 0.9568 - val_loss: 1.5497 - val_accuracy: 0.4857\n"
     ]
    }
   ],
   "source": [
    "\n",
    "history2 = model.fit(X_train, y_train, epochs=20, validation_data=(X_val, y_val), batch_size=32, shuffle=True)\n"
   ]
  },
  {
   "cell_type": "code",
   "execution_count": 5,
   "id": "dfa38017",
   "metadata": {},
   "outputs": [
    {
     "name": "stdout",
     "output_type": "stream",
     "text": [
      "Epoch 1/5\n",
      "5/5 [==============================] - 5s 1s/step - loss: 0.1409 - accuracy: 0.9712 - val_loss: 1.5341 - val_accuracy: 0.5143\n",
      "Epoch 2/5\n",
      "5/5 [==============================] - 5s 1s/step - loss: 0.1208 - accuracy: 0.9784 - val_loss: 1.5016 - val_accuracy: 0.5714\n",
      "Epoch 3/5\n",
      "5/5 [==============================] - 5s 1s/step - loss: 0.1439 - accuracy: 0.9784 - val_loss: 1.5349 - val_accuracy: 0.5429\n",
      "Epoch 4/5\n",
      "5/5 [==============================] - 5s 1s/step - loss: 0.1059 - accuracy: 0.9856 - val_loss: 1.5937 - val_accuracy: 0.4857\n",
      "Epoch 5/5\n",
      "5/5 [==============================] - 5s 1s/step - loss: 0.1289 - accuracy: 0.9568 - val_loss: 1.5418 - val_accuracy: 0.5714\n"
     ]
    }
   ],
   "source": [
    "\n",
    "history3 = model.fit(X_train, y_train, epochs=5, validation_data=(X_val, y_val), batch_size=32, shuffle=True)\n"
   ]
  },
  {
   "cell_type": "code",
   "execution_count": 6,
   "id": "30811421",
   "metadata": {},
   "outputs": [
    {
     "name": "stdout",
     "output_type": "stream",
     "text": [
      "2/2 [==============================] - 1s 162ms/step - loss: 1.5418 - accuracy: 0.5714\n",
      "Test Accuracy: 0.5714285969734192\n"
     ]
    }
   ],
   "source": [
    "\n",
    "test_loss, test_accuracy = model.evaluate(X_val, y_val)\n",
    "print(\"Test Accuracy:\", test_accuracy)\n"
   ]
  },
  {
   "cell_type": "code",
   "execution_count": 7,
   "id": "0e4c4817",
   "metadata": {},
   "outputs": [
    {
     "data": {
      "image/png": "[encoded data removed]",
      "text/plain": [
       "<Figure size 720x432 with 1 Axes>"
      ]
     },
     "metadata": {
      "needs_background": "light"
     },
     "output_type": "display_data"
    }
   ],
   "source": [
    "\n",
    "import matplotlib.pyplot as plt\n",
    "\n",
    "# Combine histories\n",
    "combined_history = {}\n",
    "for i, history in enumerate([history, history1, history2, history3]):\n",
    "    for key in history.history:\n",
    "        if key not in combined_history:\n",
    "            combined_history[key] = []\n",
    "        combined_history[key].extend(history.history[key])\n",
    "\n",
    "# Plot accuracies\n",
    "plt.figure(figsize=(10, 6))\n",
    "plt.plot(combined_history['accuracy'], label='Training Accuracy')\n",
    "plt.plot(combined_history['val_accuracy'], label='Validation Accuracy')\n",
    "plt.title('Training and Validation Accuracies')\n",
    "plt.xlabel('Epoch')\n",
    "plt.ylabel('Accuracy')\n",
    "plt.legend()\n",
    "plt.show()\n",
    "\n"
   ]
  },
  {
   "cell_type": "code",
   "execution_count": 8,
   "id": "96202a32",
   "metadata": {},
   "outputs": [
    {
     "name": "stderr",
     "output_type": "stream",
     "text": [
      "D:\\anaconda\\lib\\site-packages\\keras\\src\\engine\\training.py:3000: UserWarning: You are saving your model as an HDF5 file via `model.save()`. This file format is considered legacy. We recommend using instead the native Keras format, e.g. `model.save('my_model.keras')`.\n",
      "  saving_api.save_model(\n"
     ]
    }
   ],
   "source": [
    "\n",
    "model.save('spine_InceptionV3_without_aug.h5')\n"
   ]
  },
  {
   "cell_type": "code",
   "execution_count": null,
   "id": "5508aad1",
   "metadata": {},
   "outputs": [],
   "source": []
  }
 ],
 "metadata": {
  "kernelspec": {
   "display_name": "Python 3 (ipykernel)",
   "language": "python",
   "name": "python3"
  },
  "language_info": {
   "codemirror_mode": {
    "name": "ipython",
    "version": 3
   },
   "file_extension": ".py",
   "mimetype": "text/x-python",
   "name": "python",
   "nbconvert_exporter": "python",
   "pygments_lexer": "ipython3",
   "version": "3.9.7"
  }
 },
 "nbformat": 4,
 "nbformat_minor": 5
}
