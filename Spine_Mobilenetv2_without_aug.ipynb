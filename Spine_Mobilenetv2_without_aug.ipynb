{
 "cells": [
  {
   "cell_type": "code",
   "execution_count": 1,
   "id": "c8b3ab87",
   "metadata": {},
   "outputs": [
    {
     "name": "stderr",
     "output_type": "stream",
     "text": [
      "D:\\anaconda\\lib\\site-packages\\scipy\\__init__.py:146: UserWarning: A NumPy version >=1.16.5 and <1.23.0 is required for this version of SciPy (detected version 1.24.3\n",
      "  warnings.warn(f\"A NumPy version >={np_minversion} and <{np_maxversion}\"\n"
     ]
    },
    {
     "name": "stdout",
     "output_type": "stream",
     "text": [
      "<DirEntry 'normal'>\n",
      "<DirEntry 'osteophenia'>\n",
      "<DirEntry 'osteoporosis'>\n"
     ]
    }
   ],
   "source": [
    "import os\n",
    "import cv2\n",
    "import numpy as np\n",
    "from sklearn.model_selection import train_test_split\n",
    "from tensorflow.keras.preprocessing.image import ImageDataGenerator\n",
    "\n",
    "IMG_SIZE = 224\n",
    "\n",
    "data_dir = 'Spine/'\n",
    "\n",
    "X = []\n",
    "y = []\n",
    "\n",
    "for folder in os.scandir(data_dir):\n",
    "    print(folder)\n",
    "   \n",
    "  \n",
    "    for entry in os.scandir(data_dir + folder.name):\n",
    "        img = cv2.imread(data_dir + folder.name + '/' + entry.name, cv2.IMREAD_COLOR) \n",
    "        img = cv2.resize(img, (IMG_SIZE, IMG_SIZE))\n",
    "        img = np.array(img, dtype='float32')\n",
    "        img = img / 255\n",
    "        X.append(img)\n",
    "        if folder.name == 'normal':\n",
    "            y.append(0)\n",
    "        elif folder.name == 'osteophenia':\n",
    "            y.append(1)\n",
    "        else:\n",
    "            y.append(2)\n",
    "\n",
    "\n",
    "X = np.array(X)\n",
    "y = np.array(y)\n"
   ]
  },
  {
   "cell_type": "code",
   "execution_count": 4,
   "id": "5984a4df",
   "metadata": {},
   "outputs": [
    {
     "name": "stdout",
     "output_type": "stream",
     "text": [
      "Epoch 1/30\n",
      "5/5 [==============================] - 8s 1s/step - loss: 1.1210 - accuracy: 0.3741 - val_loss: 1.1151 - val_accuracy: 0.3143\n",
      "Epoch 2/30\n",
      "5/5 [==============================] - 4s 888ms/step - loss: 1.0701 - accuracy: 0.4101 - val_loss: 1.1147 - val_accuracy: 0.3714\n",
      "Epoch 3/30\n",
      "5/5 [==============================] - 4s 927ms/step - loss: 1.0415 - accuracy: 0.4964 - val_loss: 1.1386 - val_accuracy: 0.3143\n",
      "Epoch 4/30\n",
      "5/5 [==============================] - 4s 908ms/step - loss: 1.0349 - accuracy: 0.4676 - val_loss: 1.1222 - val_accuracy: 0.3429\n",
      "Epoch 5/30\n",
      "5/5 [==============================] - 4s 877ms/step - loss: 0.9641 - accuracy: 0.5180 - val_loss: 1.1174 - val_accuracy: 0.3714\n",
      "Epoch 6/30\n",
      "5/5 [==============================] - 4s 845ms/step - loss: 0.9826 - accuracy: 0.5540 - val_loss: 1.1173 - val_accuracy: 0.4000\n",
      "Epoch 7/30\n",
      "5/5 [==============================] - 4s 841ms/step - loss: 0.9064 - accuracy: 0.6187 - val_loss: 1.1158 - val_accuracy: 0.4000\n",
      "Epoch 8/30\n",
      "5/5 [==============================] - 4s 842ms/step - loss: 0.8680 - accuracy: 0.6187 - val_loss: 1.1192 - val_accuracy: 0.3429\n",
      "Epoch 9/30\n",
      "5/5 [==============================] - 4s 840ms/step - loss: 0.8929 - accuracy: 0.6331 - val_loss: 1.1146 - val_accuracy: 0.4000\n",
      "Epoch 10/30\n",
      "5/5 [==============================] - 4s 849ms/step - loss: 0.8350 - accuracy: 0.6331 - val_loss: 1.1273 - val_accuracy: 0.4571\n",
      "Epoch 11/30\n",
      "5/5 [==============================] - 4s 843ms/step - loss: 0.7543 - accuracy: 0.6691 - val_loss: 1.1304 - val_accuracy: 0.5143\n",
      "Epoch 12/30\n",
      "5/5 [==============================] - 4s 844ms/step - loss: 0.7649 - accuracy: 0.6691 - val_loss: 1.1241 - val_accuracy: 0.4857\n",
      "Epoch 13/30\n",
      "5/5 [==============================] - 4s 855ms/step - loss: 0.7411 - accuracy: 0.6691 - val_loss: 1.1375 - val_accuracy: 0.4286\n",
      "Epoch 14/30\n",
      "5/5 [==============================] - 4s 859ms/step - loss: 0.7772 - accuracy: 0.6619 - val_loss: 1.1540 - val_accuracy: 0.4571\n",
      "Epoch 15/30\n",
      "5/5 [==============================] - 4s 855ms/step - loss: 0.7022 - accuracy: 0.7050 - val_loss: 1.1359 - val_accuracy: 0.5143\n",
      "Epoch 16/30\n",
      "5/5 [==============================] - 4s 876ms/step - loss: 0.6488 - accuracy: 0.7554 - val_loss: 1.1391 - val_accuracy: 0.5429\n",
      "Epoch 17/30\n",
      "5/5 [==============================] - 4s 853ms/step - loss: 0.6249 - accuracy: 0.7626 - val_loss: 1.1301 - val_accuracy: 0.5429\n",
      "Epoch 18/30\n",
      "5/5 [==============================] - 4s 849ms/step - loss: 0.6342 - accuracy: 0.7554 - val_loss: 1.1299 - val_accuracy: 0.5143\n",
      "Epoch 19/30\n",
      "5/5 [==============================] - 4s 911ms/step - loss: 0.6005 - accuracy: 0.7698 - val_loss: 1.1077 - val_accuracy: 0.5429\n",
      "Epoch 20/30\n",
      "5/5 [==============================] - 4s 855ms/step - loss: 0.5641 - accuracy: 0.7986 - val_loss: 1.1139 - val_accuracy: 0.6000\n",
      "Epoch 21/30\n",
      "5/5 [==============================] - 4s 845ms/step - loss: 0.5787 - accuracy: 0.7770 - val_loss: 1.1216 - val_accuracy: 0.5143\n",
      "Epoch 22/30\n",
      "5/5 [==============================] - 4s 846ms/step - loss: 0.5053 - accuracy: 0.7914 - val_loss: 1.1245 - val_accuracy: 0.5714\n",
      "Epoch 23/30\n",
      "5/5 [==============================] - 4s 853ms/step - loss: 0.5297 - accuracy: 0.7842 - val_loss: 1.1020 - val_accuracy: 0.6000\n",
      "Epoch 24/30\n",
      "5/5 [==============================] - 4s 902ms/step - loss: 0.4756 - accuracy: 0.8201 - val_loss: 1.1022 - val_accuracy: 0.5714\n",
      "Epoch 25/30\n",
      "5/5 [==============================] - 5s 918ms/step - loss: 0.4699 - accuracy: 0.8489 - val_loss: 1.1499 - val_accuracy: 0.4857\n",
      "Epoch 26/30\n",
      "5/5 [==============================] - 4s 900ms/step - loss: 0.4751 - accuracy: 0.8561 - val_loss: 1.0808 - val_accuracy: 0.6286\n",
      "Epoch 27/30\n",
      "5/5 [==============================] - 5s 929ms/step - loss: 0.4228 - accuracy: 0.8777 - val_loss: 1.0701 - val_accuracy: 0.6286\n",
      "Epoch 28/30\n",
      "5/5 [==============================] - 4s 865ms/step - loss: 0.3685 - accuracy: 0.9065 - val_loss: 1.1047 - val_accuracy: 0.5143\n",
      "Epoch 29/30\n",
      "5/5 [==============================] - 4s 844ms/step - loss: 0.4135 - accuracy: 0.8561 - val_loss: 1.1194 - val_accuracy: 0.6000\n",
      "Epoch 30/30\n",
      "5/5 [==============================] - 4s 857ms/step - loss: 0.3898 - accuracy: 0.8921 - val_loss: 1.1371 - val_accuracy: 0.5714\n"
     ]
    }
   ],
   "source": [
    " \n",
    "\n",
    "\n",
    "import tensorflow as tf\n",
    "from tensorflow.keras.applications import MobileNetV2\n",
    "from tensorflow.keras.layers import Dense, GlobalAveragePooling2D, Dropout\n",
    "from tensorflow.keras.models import Model\n",
    "from tensorflow.keras.optimizers import Adam\n",
    "from sklearn.model_selection import train_test_split\n",
    "\n",
    "base_model = MobileNetV2(weights='imagenet', include_top=False, input_shape=(224, 224, 3))\n",
    "\n",
    "x = base_model.output\n",
    "x = GlobalAveragePooling2D()(x)\n",
    "x = Dense(1024, activation='relu')(x)\n",
    "x = Dropout(0.5)(x)\n",
    "\n",
    "x = Dense(128, activation='relu')(x)\n",
    "\n",
    "x = Dense(64, activation='relu')(x)\n",
    "\n",
    "\n",
    "predictions = Dense(3, activation='softmax')(x)\n",
    "\n",
    "model = Model(inputs=base_model.input, outputs=predictions)\n",
    "\n",
    "for layer in base_model.layers:\n",
    "    layer.trainable = False\n",
    "\n",
    "\n",
    "opt = Adam(learning_rate=0.0001)\n",
    "model.compile(loss='sparse_categorical_crossentropy', optimizer=opt, metrics=[\"accuracy\"])\n",
    "\n",
    "X_train, X_val, y_train, y_val = train_test_split(X, y, test_size=0.2, shuffle=True, stratify=y, random_state=123)\n",
    "\n",
    "\n",
    "history = model.fit(X_train, y_train, epochs=30, validation_data=(X_val, y_val), batch_size=32, shuffle=True)\n"
   ]
  },
  {
   "cell_type": "code",
   "execution_count": 5,
   "id": "ab015d92",
   "metadata": {},
   "outputs": [
    {
     "name": "stdout",
     "output_type": "stream",
     "text": [
      "Epoch 1/30\n",
      "5/5 [==============================] - 5s 892ms/step - loss: 0.3509 - accuracy: 0.9137 - val_loss: 1.1241 - val_accuracy: 0.6000\n",
      "Epoch 2/30\n",
      "5/5 [==============================] - 4s 876ms/step - loss: 0.3254 - accuracy: 0.9137 - val_loss: 1.1184 - val_accuracy: 0.6000\n",
      "Epoch 3/30\n",
      "5/5 [==============================] - 4s 831ms/step - loss: 0.3017 - accuracy: 0.9137 - val_loss: 1.1566 - val_accuracy: 0.6000\n",
      "Epoch 4/30\n",
      "5/5 [==============================] - 4s 847ms/step - loss: 0.3316 - accuracy: 0.9065 - val_loss: 1.1691 - val_accuracy: 0.5143\n",
      "Epoch 5/30\n",
      "5/5 [==============================] - 4s 834ms/step - loss: 0.3053 - accuracy: 0.9496 - val_loss: 1.1614 - val_accuracy: 0.5429\n",
      "Epoch 6/30\n",
      "5/5 [==============================] - 4s 886ms/step - loss: 0.2632 - accuracy: 0.9640 - val_loss: 1.1160 - val_accuracy: 0.6286\n",
      "Epoch 7/30\n",
      "5/5 [==============================] - 4s 878ms/step - loss: 0.2735 - accuracy: 0.9640 - val_loss: 1.1623 - val_accuracy: 0.6286\n",
      "Epoch 8/30\n",
      "5/5 [==============================] - 4s 917ms/step - loss: 0.2754 - accuracy: 0.9353 - val_loss: 1.2284 - val_accuracy: 0.5714\n",
      "Epoch 9/30\n",
      "5/5 [==============================] - 4s 904ms/step - loss: 0.2474 - accuracy: 0.9353 - val_loss: 1.1777 - val_accuracy: 0.6000\n",
      "Epoch 10/30\n",
      "5/5 [==============================] - 4s 852ms/step - loss: 0.2515 - accuracy: 0.9424 - val_loss: 1.1761 - val_accuracy: 0.5714\n",
      "Epoch 11/30\n",
      "5/5 [==============================] - 4s 838ms/step - loss: 0.2634 - accuracy: 0.9353 - val_loss: 1.1783 - val_accuracy: 0.6000\n",
      "Epoch 12/30\n",
      "5/5 [==============================] - 4s 847ms/step - loss: 0.2442 - accuracy: 0.9568 - val_loss: 1.1944 - val_accuracy: 0.6000\n",
      "Epoch 13/30\n",
      "5/5 [==============================] - 4s 843ms/step - loss: 0.2014 - accuracy: 0.9568 - val_loss: 1.2244 - val_accuracy: 0.6000\n",
      "Epoch 14/30\n",
      "5/5 [==============================] - 5s 1s/step - loss: 0.2178 - accuracy: 0.9496 - val_loss: 1.2732 - val_accuracy: 0.6000\n",
      "Epoch 15/30\n",
      "5/5 [==============================] - 4s 843ms/step - loss: 0.1650 - accuracy: 0.9784 - val_loss: 1.2227 - val_accuracy: 0.6000\n",
      "Epoch 16/30\n",
      "5/5 [==============================] - 4s 865ms/step - loss: 0.2078 - accuracy: 0.9496 - val_loss: 1.1916 - val_accuracy: 0.6286\n",
      "Epoch 17/30\n",
      "5/5 [==============================] - 4s 841ms/step - loss: 0.1626 - accuracy: 0.9784 - val_loss: 1.2282 - val_accuracy: 0.6286\n",
      "Epoch 18/30\n",
      "5/5 [==============================] - 4s 829ms/step - loss: 0.1328 - accuracy: 0.9856 - val_loss: 1.2868 - val_accuracy: 0.5714\n",
      "Epoch 19/30\n",
      "5/5 [==============================] - 4s 884ms/step - loss: 0.1615 - accuracy: 0.9712 - val_loss: 1.2822 - val_accuracy: 0.5714\n",
      "Epoch 20/30\n",
      "5/5 [==============================] - 4s 831ms/step - loss: 0.1393 - accuracy: 0.9784 - val_loss: 1.1730 - val_accuracy: 0.6286\n",
      "Epoch 21/30\n",
      "5/5 [==============================] - 4s 835ms/step - loss: 0.1828 - accuracy: 0.9496 - val_loss: 1.1436 - val_accuracy: 0.6571\n",
      "Epoch 22/30\n",
      "5/5 [==============================] - 4s 842ms/step - loss: 0.1368 - accuracy: 0.9928 - val_loss: 1.2438 - val_accuracy: 0.6000\n",
      "Epoch 23/30\n",
      "5/5 [==============================] - 4s 835ms/step - loss: 0.1456 - accuracy: 0.9712 - val_loss: 1.2878 - val_accuracy: 0.5714\n",
      "Epoch 24/30\n",
      "5/5 [==============================] - 4s 838ms/step - loss: 0.1288 - accuracy: 0.9712 - val_loss: 1.2495 - val_accuracy: 0.6000\n",
      "Epoch 25/30\n",
      "5/5 [==============================] - 4s 863ms/step - loss: 0.1168 - accuracy: 1.0000 - val_loss: 1.2532 - val_accuracy: 0.6000\n",
      "Epoch 26/30\n",
      "5/5 [==============================] - 5s 937ms/step - loss: 0.1313 - accuracy: 0.9784 - val_loss: 1.2756 - val_accuracy: 0.6000\n",
      "Epoch 27/30\n",
      "5/5 [==============================] - 4s 903ms/step - loss: 0.1191 - accuracy: 0.9784 - val_loss: 1.2930 - val_accuracy: 0.6000\n",
      "Epoch 28/30\n",
      "5/5 [==============================] - 5s 950ms/step - loss: 0.1407 - accuracy: 0.9568 - val_loss: 1.2731 - val_accuracy: 0.6000\n",
      "Epoch 29/30\n",
      "5/5 [==============================] - 4s 875ms/step - loss: 0.1062 - accuracy: 0.9856 - val_loss: 1.2475 - val_accuracy: 0.5714\n",
      "Epoch 30/30\n",
      "5/5 [==============================] - 4s 835ms/step - loss: 0.0910 - accuracy: 1.0000 - val_loss: 1.2423 - val_accuracy: 0.5714\n"
     ]
    }
   ],
   "source": [
    "#\n",
    "\n",
    "history1= model.fit(X_train, y_train, epochs=30, validation_data=(X_val, y_val), batch_size=32, shuffle=True)\n",
    "\n",
    "\n",
    "\n",
    "\n"
   ]
  },
  {
   "cell_type": "code",
   "execution_count": 6,
   "id": "00bd3868",
   "metadata": {},
   "outputs": [
    {
     "name": "stdout",
     "output_type": "stream",
     "text": [
      "Epoch 1/10\n",
      "5/5 [==============================] - 5s 893ms/step - loss: 0.0944 - accuracy: 1.0000 - val_loss: 1.2631 - val_accuracy: 0.6000\n",
      "Epoch 2/10\n",
      "5/5 [==============================] - 4s 858ms/step - loss: 0.0821 - accuracy: 0.9928 - val_loss: 1.3254 - val_accuracy: 0.6286\n",
      "Epoch 3/10\n",
      "5/5 [==============================] - 4s 851ms/step - loss: 0.0856 - accuracy: 1.0000 - val_loss: 1.2820 - val_accuracy: 0.6000\n",
      "Epoch 4/10\n",
      "5/5 [==============================] - 4s 848ms/step - loss: 0.1030 - accuracy: 0.9856 - val_loss: 1.2548 - val_accuracy: 0.5714\n",
      "Epoch 5/10\n",
      "5/5 [==============================] - 4s 863ms/step - loss: 0.0919 - accuracy: 0.9928 - val_loss: 1.2938 - val_accuracy: 0.6000\n",
      "Epoch 6/10\n",
      "5/5 [==============================] - 4s 858ms/step - loss: 0.0851 - accuracy: 0.9928 - val_loss: 1.3768 - val_accuracy: 0.6286\n",
      "Epoch 7/10\n",
      "5/5 [==============================] - 4s 856ms/step - loss: 0.0781 - accuracy: 0.9928 - val_loss: 1.3567 - val_accuracy: 0.6000\n",
      "Epoch 8/10\n",
      "5/5 [==============================] - 4s 854ms/step - loss: 0.0675 - accuracy: 0.9928 - val_loss: 1.3113 - val_accuracy: 0.6000\n",
      "Epoch 9/10\n",
      "5/5 [==============================] - 4s 838ms/step - loss: 0.0738 - accuracy: 0.9928 - val_loss: 1.3669 - val_accuracy: 0.5714\n",
      "Epoch 10/10\n",
      "5/5 [==============================] - 4s 838ms/step - loss: 0.0601 - accuracy: 1.0000 - val_loss: 1.3749 - val_accuracy: 0.5714\n"
     ]
    }
   ],
   "source": [
    "history2 = model.fit(X_train, y_train, epochs=10, validation_data=(X_val, y_val), batch_size=32, shuffle=True)\n",
    "\n"
   ]
  },
  {
   "cell_type": "code",
   "execution_count": 7,
   "id": "aacf777a",
   "metadata": {},
   "outputs": [
    {
     "name": "stdout",
     "output_type": "stream",
     "text": [
      "Epoch 1/10\n",
      "5/5 [==============================] - 4s 884ms/step - loss: 0.0734 - accuracy: 1.0000 - val_loss: 1.3713 - val_accuracy: 0.5714\n",
      "Epoch 2/10\n",
      "5/5 [==============================] - 4s 839ms/step - loss: 0.0763 - accuracy: 1.0000 - val_loss: 1.3681 - val_accuracy: 0.5714\n",
      "Epoch 3/10\n",
      "5/5 [==============================] - 4s 854ms/step - loss: 0.0663 - accuracy: 1.0000 - val_loss: 1.3784 - val_accuracy: 0.5714\n",
      "Epoch 4/10\n",
      "5/5 [==============================] - 4s 846ms/step - loss: 0.0478 - accuracy: 0.9928 - val_loss: 1.4015 - val_accuracy: 0.5714\n",
      "Epoch 5/10\n",
      "5/5 [==============================] - 4s 846ms/step - loss: 0.0524 - accuracy: 1.0000 - val_loss: 1.4036 - val_accuracy: 0.5429\n",
      "Epoch 6/10\n",
      "5/5 [==============================] - 4s 855ms/step - loss: 0.0543 - accuracy: 0.9928 - val_loss: 1.4040 - val_accuracy: 0.5714\n",
      "Epoch 7/10\n",
      "5/5 [==============================] - 4s 834ms/step - loss: 0.0427 - accuracy: 1.0000 - val_loss: 1.4157 - val_accuracy: 0.5429\n",
      "Epoch 8/10\n",
      "5/5 [==============================] - 4s 834ms/step - loss: 0.0504 - accuracy: 1.0000 - val_loss: 1.4684 - val_accuracy: 0.5714\n",
      "Epoch 9/10\n",
      "5/5 [==============================] - 4s 846ms/step - loss: 0.0647 - accuracy: 0.9928 - val_loss: 1.4758 - val_accuracy: 0.5714\n",
      "Epoch 10/10\n",
      "5/5 [==============================] - 4s 854ms/step - loss: 0.0453 - accuracy: 1.0000 - val_loss: 1.4672 - val_accuracy: 0.5714\n"
     ]
    }
   ],
   "source": [
    "\n",
    "\n",
    "history3 = model.fit(X_train, y_train, epochs=10, validation_data=(X_val, y_val), batch_size=32, shuffle=True)\n"
   ]
  },
  {
   "cell_type": "code",
   "execution_count": 8,
   "id": "6d777c7d",
   "metadata": {},
   "outputs": [
    {
     "name": "stdout",
     "output_type": "stream",
     "text": [
      "Epoch 1/5\n",
      "5/5 [==============================] - 5s 1s/step - loss: 0.0453 - accuracy: 1.0000 - val_loss: 1.4432 - val_accuracy: 0.6000\n",
      "Epoch 2/5\n",
      "5/5 [==============================] - 4s 914ms/step - loss: 0.0467 - accuracy: 1.0000 - val_loss: 1.4145 - val_accuracy: 0.5714\n",
      "Epoch 3/5\n",
      "5/5 [==============================] - 5s 892ms/step - loss: 0.0416 - accuracy: 1.0000 - val_loss: 1.4627 - val_accuracy: 0.5714\n",
      "Epoch 4/5\n",
      "5/5 [==============================] - 4s 884ms/step - loss: 0.0377 - accuracy: 1.0000 - val_loss: 1.5096 - val_accuracy: 0.5714\n",
      "Epoch 5/5\n",
      "5/5 [==============================] - 4s 838ms/step - loss: 0.0348 - accuracy: 1.0000 - val_loss: 1.5100 - val_accuracy: 0.5714\n"
     ]
    }
   ],
   "source": [
    "\n",
    "history4 = model.fit(X_train, y_train, epochs=5, validation_data=(X_val, y_val), batch_size=32, shuffle=True)"
   ]
  },
  {
   "cell_type": "code",
   "execution_count": 9,
   "id": "4f2e85c7",
   "metadata": {},
   "outputs": [
    {
     "name": "stdout",
     "output_type": "stream",
     "text": [
      "2/2 [==============================] - 1s 83ms/step - loss: 1.5100 - accuracy: 0.5714\n",
      "Test Accuracy: 0.5714285969734192\n"
     ]
    }
   ],
   "source": [
    "test_loss, test_accuracy = model.evaluate(X_val, y_val)\n",
    "print(\"Test Accuracy:\", test_accuracy)\n"
   ]
  },
  {
   "cell_type": "code",
   "execution_count": 11,
   "id": "9fff7273",
   "metadata": {},
   "outputs": [
    {
     "data": {
      "image/png": "[encoded data removed]",
      "text/plain": [
       "<Figure size 720x432 with 1 Axes>"
      ]
     },
     "metadata": {
      "needs_background": "light"
     },
     "output_type": "display_data"
    }
   ],
   "source": [
    "import matplotlib.pyplot as plt\n",
    "\n",
    "# Combine histories\n",
    "combined_history = {}\n",
    "for i, history in enumerate([history, history1, history2, history3,history4]):\n",
    "    for key in history.history:\n",
    "        if key not in combined_history:\n",
    "            combined_history[key] = []\n",
    "        combined_history[key].extend(history.history[key])\n",
    "\n",
    "# Plot accuracies\n",
    "plt.figure(figsize=(10, 6))\n",
    "plt.plot(combined_history['accuracy'], label='Training Accuracy')\n",
    "plt.plot(combined_history['val_accuracy'], label='Validation Accuracy')\n",
    "plt.title('Training and Validation Accuracies')\n",
    "plt.xlabel('Epoch')\n",
    "plt.ylabel('Accuracy')\n",
    "plt.legend()\n",
    "plt.show()\n"
   ]
  },
  {
   "cell_type": "code",
   "execution_count": 10,
   "id": "8ce67f83",
   "metadata": {},
   "outputs": [
    {
     "name": "stderr",
     "output_type": "stream",
     "text": [
      "D:\\anaconda\\lib\\site-packages\\keras\\src\\engine\\training.py:3000: UserWarning: You are saving your model as an HDF5 file via `model.save()`. This file format is considered legacy. We recommend using instead the native Keras format, e.g. `model.save('my_model.keras')`.\n",
      "  saving_api.save_model(\n"
     ]
    }
   ],
   "source": [
    "\n",
    "model.save(\"spine_mobilenetv2_no_aug.h5\")"
   ]
  },
  {
   "cell_type": "code",
   "execution_count": null,
   "id": "9cb06378",
   "metadata": {},
   "outputs": [],
   "source": []
  }
 ],
 "metadata": {
  "kernelspec": {
   "display_name": "Python 3 (ipykernel)",
   "language": "python",
   "name": "python3"
  },
  "language_info": {
   "codemirror_mode": {
    "name": "ipython",
    "version": 3
   },
   "file_extension": ".py",
   "mimetype": "text/x-python",
   "name": "python",
   "nbconvert_exporter": "python",
   "pygments_lexer": "ipython3",
   "version": "3.9.7"
  }
 },
 "nbformat": 4,
 "nbformat_minor": 5
}
