{
 "cells": [
  {
   "cell_type": "code",
   "execution_count": 27,
   "id": "e6828a8c",
   "metadata": {},
   "outputs": [
    {
     "name": "stdout",
     "output_type": "stream",
     "text": [
      "<DirEntry 'normal'>\n",
      "<DirEntry 'osteophenia'>\n",
      "<DirEntry 'osteoporosis'>\n"
     ]
    }
   ],
   "source": [
    "import os\n",
    "import cv2\n",
    "import numpy as np\n",
    "from sklearn.model_selection import train_test_split\n",
    "from tensorflow.keras.preprocessing.image import ImageDataGenerator\n",
    "\n",
    "IMG_SIZE = 224\n",
    "\n",
    "data_dir = 'Spine_img/'\n",
    "\n",
    "X = []\n",
    "y = []\n",
    "\n",
    "for folder in os.scandir(data_dir):\n",
    "    print(folder)\n",
    "   \n",
    "    for entry in os.scandir(data_dir + folder.name):\n",
    "        img = cv2.imread(data_dir + folder.name + '/' + entry.name, cv2.IMREAD_COLOR) \n",
    "        img = cv2.resize(img, (IMG_SIZE, IMG_SIZE))\n",
    "        img = np.array(img, dtype='float32')\n",
    "        img = img / 255\n",
    "        X.append(img)\n",
    "        if folder.name == 'normal':\n",
    "            y.append(0)\n",
    "        elif folder.name == 'osteophenia':\n",
    "            y.append(1)\n",
    "        else:\n",
    "            y.append(2)\n",
    "\n",
    "       \n",
    "\n",
    "X = np.array(X)\n",
    "y = np.array(y)\n",
    "\n"
   ]
  },
  {
   "cell_type": "code",
   "execution_count": 31,
   "id": "a7d5bc30",
   "metadata": {},
   "outputs": [
    {
     "name": "stdout",
     "output_type": "stream",
     "text": [
      "Epoch 1/30\n",
      "9/9 [==============================] - 37s 4s/step - loss: 1.1931 - accuracy: 0.3500 - val_loss: 1.1171 - val_accuracy: 0.3239\n",
      "Epoch 2/30\n",
      "9/9 [==============================] - 35s 4s/step - loss: 1.1433 - accuracy: 0.3429 - val_loss: 1.1007 - val_accuracy: 0.3239\n",
      "Epoch 3/30\n",
      "9/9 [==============================] - 35s 4s/step - loss: 1.1286 - accuracy: 0.3393 - val_loss: 1.0915 - val_accuracy: 0.4930\n",
      "Epoch 4/30\n",
      "9/9 [==============================] - 34s 4s/step - loss: 1.0982 - accuracy: 0.4036 - val_loss: 1.0916 - val_accuracy: 0.3944\n",
      "Epoch 5/30\n",
      "9/9 [==============================] - 35s 4s/step - loss: 1.1287 - accuracy: 0.3000 - val_loss: 1.0874 - val_accuracy: 0.4366\n",
      "Epoch 6/30\n",
      "9/9 [==============================] - 36s 4s/step - loss: 1.1168 - accuracy: 0.3429 - val_loss: 1.0872 - val_accuracy: 0.3662\n",
      "Epoch 7/30\n",
      "9/9 [==============================] - 35s 4s/step - loss: 1.1011 - accuracy: 0.3857 - val_loss: 1.0836 - val_accuracy: 0.4507\n",
      "Epoch 8/30\n",
      "9/9 [==============================] - 36s 4s/step - loss: 1.1066 - accuracy: 0.3679 - val_loss: 1.0851 - val_accuracy: 0.3380\n",
      "Epoch 9/30\n",
      "9/9 [==============================] - 34s 4s/step - loss: 1.0903 - accuracy: 0.4036 - val_loss: 1.0809 - val_accuracy: 0.4507\n",
      "Epoch 10/30\n",
      "9/9 [==============================] - 35s 4s/step - loss: 1.1004 - accuracy: 0.3464 - val_loss: 1.0785 - val_accuracy: 0.4507\n",
      "Epoch 11/30\n",
      "9/9 [==============================] - 34s 4s/step - loss: 1.0970 - accuracy: 0.3536 - val_loss: 1.0869 - val_accuracy: 0.4366\n",
      "Epoch 12/30\n",
      "9/9 [==============================] - 34s 4s/step - loss: 1.0808 - accuracy: 0.3679 - val_loss: 1.0782 - val_accuracy: 0.4648\n",
      "Epoch 13/30\n",
      "9/9 [==============================] - 35s 4s/step - loss: 1.0822 - accuracy: 0.3964 - val_loss: 1.0837 - val_accuracy: 0.3521\n",
      "Epoch 14/30\n",
      "9/9 [==============================] - 35s 4s/step - loss: 1.0636 - accuracy: 0.4321 - val_loss: 1.0784 - val_accuracy: 0.4366\n",
      "Epoch 15/30\n",
      "9/9 [==============================] - 34s 4s/step - loss: 1.0682 - accuracy: 0.4250 - val_loss: 1.0743 - val_accuracy: 0.4507\n",
      "Epoch 16/30\n",
      "9/9 [==============================] - 34s 4s/step - loss: 1.0844 - accuracy: 0.3750 - val_loss: 1.0771 - val_accuracy: 0.4507\n",
      "Epoch 17/30\n",
      "9/9 [==============================] - 35s 4s/step - loss: 1.0521 - accuracy: 0.4536 - val_loss: 1.0787 - val_accuracy: 0.4648\n",
      "Epoch 18/30\n",
      "9/9 [==============================] - 36s 4s/step - loss: 1.0616 - accuracy: 0.4357 - val_loss: 1.0719 - val_accuracy: 0.4507\n",
      "Epoch 19/30\n",
      "9/9 [==============================] - 34s 4s/step - loss: 1.0643 - accuracy: 0.4321 - val_loss: 1.0676 - val_accuracy: 0.4789\n",
      "Epoch 20/30\n",
      "9/9 [==============================] - 34s 4s/step - loss: 1.0554 - accuracy: 0.4679 - val_loss: 1.0679 - val_accuracy: 0.4507\n",
      "Epoch 21/30\n",
      "9/9 [==============================] - 34s 4s/step - loss: 1.0724 - accuracy: 0.4143 - val_loss: 1.0790 - val_accuracy: 0.3803\n",
      "Epoch 22/30\n",
      "9/9 [==============================] - 34s 4s/step - loss: 1.0621 - accuracy: 0.4286 - val_loss: 1.0659 - val_accuracy: 0.4507\n",
      "Epoch 23/30\n",
      "9/9 [==============================] - 34s 4s/step - loss: 1.0434 - accuracy: 0.4607 - val_loss: 1.0615 - val_accuracy: 0.4648\n",
      "Epoch 24/30\n",
      "9/9 [==============================] - 34s 4s/step - loss: 1.0273 - accuracy: 0.4821 - val_loss: 1.0595 - val_accuracy: 0.4225\n",
      "Epoch 25/30\n",
      "9/9 [==============================] - 35s 4s/step - loss: 1.0707 - accuracy: 0.4036 - val_loss: 1.0690 - val_accuracy: 0.4648\n",
      "Epoch 26/30\n",
      "9/9 [==============================] - 34s 4s/step - loss: 1.0697 - accuracy: 0.4464 - val_loss: 1.0528 - val_accuracy: 0.4789\n",
      "Epoch 27/30\n",
      "9/9 [==============================] - 34s 4s/step - loss: 1.0338 - accuracy: 0.4929 - val_loss: 1.0561 - val_accuracy: 0.4507\n",
      "Epoch 28/30\n",
      "9/9 [==============================] - 34s 4s/step - loss: 1.0358 - accuracy: 0.4786 - val_loss: 1.0532 - val_accuracy: 0.4225\n",
      "Epoch 29/30\n",
      "9/9 [==============================] - 37s 4s/step - loss: 1.0269 - accuracy: 0.4750 - val_loss: 1.0416 - val_accuracy: 0.5070\n",
      "Epoch 30/30\n",
      "9/9 [==============================] - 34s 4s/step - loss: 1.0105 - accuracy: 0.4929 - val_loss: 1.0456 - val_accuracy: 0.4507\n"
     ]
    }
   ],
   "source": [
    "import tensorflow as tf\n",
    "from tensorflow.keras.applications import VGG19\n",
    "from tensorflow.keras.layers import Dense, GlobalAveragePooling2D, Dropout\n",
    "from tensorflow.keras.models import Model\n",
    "from tensorflow.keras.optimizers import Adam\n",
    "from sklearn.model_selection import train_test_split\n",
    "from tensorflow.keras.callbacks import ModelCheckpoint\n",
    "\n",
    "base_model = VGG19(weights='imagenet', include_top=False, input_shape=(224, 224, 3))\n",
    "\n",
    "x = base_model.output\n",
    "x = GlobalAveragePooling2D()(x)\n",
    "\n",
    "x = Dense(2048, activation='relu')(x)\n",
    "x = Dropout(0.5)(x)\n",
    "x = Dense(512, activation='relu')(x)\n",
    "x = Dropout(0.5)(x)\n",
    "\n",
    "x = Dense(128, activation='relu')(x)\n",
    "\n",
    "predictions = Dense(3, activation='softmax')(x)\n",
    "\n",
    "model = Model(inputs=base_model.input, outputs=predictions)\n",
    "\n",
    "for layer in base_model.layers:\n",
    "    layer.trainable = False\n",
    "\n",
    "opt = Adam(learning_rate=0.0001)\n",
    "model.compile(loss='sparse_categorical_crossentropy', optimizer=opt, metrics=[\"accuracy\"])\n",
    "\n",
    "X_train, X_val, y_train, y_val = train_test_split(X, y, test_size=0.2, shuffle=True, stratify=y, random_state=123)\n",
    "\n",
    "history = model.fit(X_train, y_train, epochs=30, validation_data=(X_val, y_val), batch_size=32, shuffle=True)\n"
   ]
  },
  {
   "cell_type": "code",
   "execution_count": 32,
   "id": "95e8ae6d",
   "metadata": {
    "scrolled": true
   },
   "outputs": [
    {
     "name": "stdout",
     "output_type": "stream",
     "text": [
      "Epoch 1/30\n",
      "9/9 [==============================] - 34s 4s/step - loss: 1.0746 - accuracy: 0.4893 - val_loss: 1.0481 - val_accuracy: 0.4789\n",
      "Epoch 2/30\n",
      "9/9 [==============================] - 34s 4s/step - loss: 1.0419 - accuracy: 0.4607 - val_loss: 1.0375 - val_accuracy: 0.4930\n",
      "Epoch 3/30\n",
      "9/9 [==============================] - 34s 4s/step - loss: 1.0221 - accuracy: 0.5071 - val_loss: 1.0295 - val_accuracy: 0.4789\n",
      "Epoch 4/30\n",
      "9/9 [==============================] - 34s 4s/step - loss: 1.0108 - accuracy: 0.5036 - val_loss: 1.0390 - val_accuracy: 0.4648\n",
      "Epoch 5/30\n",
      "9/9 [==============================] - 34s 4s/step - loss: 1.0233 - accuracy: 0.4571 - val_loss: 1.0219 - val_accuracy: 0.5493\n",
      "Epoch 6/30\n",
      "9/9 [==============================] - 34s 4s/step - loss: 1.0108 - accuracy: 0.4857 - val_loss: 1.0365 - val_accuracy: 0.4648\n",
      "Epoch 7/30\n",
      "9/9 [==============================] - 34s 4s/step - loss: 0.9941 - accuracy: 0.4893 - val_loss: 1.0114 - val_accuracy: 0.5070\n",
      "Epoch 8/30\n",
      "9/9 [==============================] - 35s 4s/step - loss: 0.9922 - accuracy: 0.5071 - val_loss: 1.0050 - val_accuracy: 0.5211\n",
      "Epoch 9/30\n",
      "9/9 [==============================] - 34s 4s/step - loss: 0.9911 - accuracy: 0.5393 - val_loss: 1.0033 - val_accuracy: 0.5211\n",
      "Epoch 10/30\n",
      "9/9 [==============================] - 34s 4s/step - loss: 0.9633 - accuracy: 0.5464 - val_loss: 0.9922 - val_accuracy: 0.5493\n",
      "Epoch 11/30\n",
      "9/9 [==============================] - 34s 4s/step - loss: 0.9563 - accuracy: 0.5536 - val_loss: 1.0063 - val_accuracy: 0.4789\n",
      "Epoch 12/30\n",
      "9/9 [==============================] - 34s 4s/step - loss: 0.9522 - accuracy: 0.5607 - val_loss: 0.9860 - val_accuracy: 0.5493\n",
      "Epoch 13/30\n",
      "9/9 [==============================] - 34s 4s/step - loss: 0.9489 - accuracy: 0.5536 - val_loss: 0.9735 - val_accuracy: 0.5352\n",
      "Epoch 14/30\n",
      "9/9 [==============================] - 34s 4s/step - loss: 0.9414 - accuracy: 0.5429 - val_loss: 0.9968 - val_accuracy: 0.4930\n",
      "Epoch 15/30\n",
      "9/9 [==============================] - 34s 4s/step - loss: 0.9380 - accuracy: 0.5464 - val_loss: 0.9704 - val_accuracy: 0.5634\n",
      "Epoch 16/30\n",
      "9/9 [==============================] - 34s 4s/step - loss: 0.9559 - accuracy: 0.5286 - val_loss: 0.9646 - val_accuracy: 0.5211\n",
      "Epoch 17/30\n",
      "9/9 [==============================] - 35s 4s/step - loss: 0.9355 - accuracy: 0.5857 - val_loss: 0.9597 - val_accuracy: 0.5634\n",
      "Epoch 18/30\n",
      "9/9 [==============================] - 34s 4s/step - loss: 0.9405 - accuracy: 0.5429 - val_loss: 0.9451 - val_accuracy: 0.5915\n",
      "Epoch 19/30\n",
      "9/9 [==============================] - 34s 4s/step - loss: 0.9142 - accuracy: 0.5679 - val_loss: 0.9738 - val_accuracy: 0.4930\n",
      "Epoch 20/30\n",
      "9/9 [==============================] - 34s 4s/step - loss: 0.8908 - accuracy: 0.5643 - val_loss: 0.9395 - val_accuracy: 0.5775\n",
      "Epoch 21/30\n",
      "9/9 [==============================] - 34s 4s/step - loss: 0.8817 - accuracy: 0.5857 - val_loss: 0.9452 - val_accuracy: 0.5070\n",
      "Epoch 22/30\n",
      "9/9 [==============================] - 35s 4s/step - loss: 0.9055 - accuracy: 0.5964 - val_loss: 0.9178 - val_accuracy: 0.6197\n",
      "Epoch 23/30\n",
      "9/9 [==============================] - 35s 4s/step - loss: 0.8938 - accuracy: 0.5714 - val_loss: 0.9264 - val_accuracy: 0.5352\n",
      "Epoch 24/30\n",
      "9/9 [==============================] - 34s 4s/step - loss: 0.8330 - accuracy: 0.6286 - val_loss: 0.9092 - val_accuracy: 0.6056\n",
      "Epoch 25/30\n",
      "9/9 [==============================] - 34s 4s/step - loss: 0.8711 - accuracy: 0.5750 - val_loss: 0.9067 - val_accuracy: 0.5915\n",
      "Epoch 26/30\n",
      "9/9 [==============================] - 34s 4s/step - loss: 0.8577 - accuracy: 0.6250 - val_loss: 0.8937 - val_accuracy: 0.6056\n",
      "Epoch 27/30\n",
      "9/9 [==============================] - 34s 4s/step - loss: 0.8224 - accuracy: 0.6393 - val_loss: 0.8758 - val_accuracy: 0.6197\n",
      "Epoch 28/30\n",
      "9/9 [==============================] - 34s 4s/step - loss: 0.8181 - accuracy: 0.6571 - val_loss: 0.8748 - val_accuracy: 0.6056\n",
      "Epoch 29/30\n",
      "9/9 [==============================] - 34s 4s/step - loss: 0.8043 - accuracy: 0.6607 - val_loss: 0.8717 - val_accuracy: 0.6338\n",
      "Epoch 30/30\n",
      "9/9 [==============================] - 34s 4s/step - loss: 0.8280 - accuracy: 0.6679 - val_loss: 0.8667 - val_accuracy: 0.6197\n"
     ]
    }
   ],
   "source": [
    "history1= model.fit(X_train, y_train, epochs=30, validation_data=(X_val, y_val), batch_size=32, shuffle=True)\n"
   ]
  },
  {
   "cell_type": "code",
   "execution_count": 33,
   "id": "351fb087",
   "metadata": {},
   "outputs": [
    {
     "name": "stdout",
     "output_type": "stream",
     "text": [
      "Epoch 1/30\n",
      "9/9 [==============================] - 34s 4s/step - loss: 0.8264 - accuracy: 0.6214 - val_loss: 0.8439 - val_accuracy: 0.6620\n",
      "Epoch 2/30\n",
      "9/9 [==============================] - 34s 4s/step - loss: 0.7681 - accuracy: 0.6393 - val_loss: 0.8364 - val_accuracy: 0.6479\n",
      "Epoch 3/30\n",
      "9/9 [==============================] - 34s 4s/step - loss: 0.7862 - accuracy: 0.6500 - val_loss: 0.8397 - val_accuracy: 0.6620\n",
      "Epoch 4/30\n",
      "9/9 [==============================] - 37s 4s/step - loss: 0.8164 - accuracy: 0.6250 - val_loss: 0.8209 - val_accuracy: 0.6479\n",
      "Epoch 5/30\n",
      "9/9 [==============================] - 34s 4s/step - loss: 0.7574 - accuracy: 0.6357 - val_loss: 0.8322 - val_accuracy: 0.6479\n",
      "Epoch 6/30\n",
      "9/9 [==============================] - 36s 4s/step - loss: 0.7604 - accuracy: 0.6643 - val_loss: 0.8096 - val_accuracy: 0.6761\n",
      "Epoch 7/30\n",
      "9/9 [==============================] - 34s 4s/step - loss: 0.7341 - accuracy: 0.6893 - val_loss: 0.8016 - val_accuracy: 0.6901\n",
      "Epoch 8/30\n",
      "9/9 [==============================] - 34s 4s/step - loss: 0.7177 - accuracy: 0.7107 - val_loss: 0.8116 - val_accuracy: 0.6620\n",
      "Epoch 9/30\n",
      "9/9 [==============================] - 34s 4s/step - loss: 0.7693 - accuracy: 0.6464 - val_loss: 0.8124 - val_accuracy: 0.6761\n",
      "Epoch 10/30\n",
      "9/9 [==============================] - 34s 4s/step - loss: 0.7255 - accuracy: 0.6786 - val_loss: 0.8024 - val_accuracy: 0.6620\n",
      "Epoch 11/30\n",
      "9/9 [==============================] - 34s 4s/step - loss: 0.7113 - accuracy: 0.6893 - val_loss: 0.7935 - val_accuracy: 0.6620\n",
      "Epoch 12/30\n",
      "9/9 [==============================] - 34s 4s/step - loss: 0.6674 - accuracy: 0.7321 - val_loss: 0.7988 - val_accuracy: 0.6761\n",
      "Epoch 13/30\n",
      "9/9 [==============================] - 34s 4s/step - loss: 0.7289 - accuracy: 0.6786 - val_loss: 0.7844 - val_accuracy: 0.6901\n",
      "Epoch 14/30\n",
      "9/9 [==============================] - 34s 4s/step - loss: 0.6988 - accuracy: 0.7107 - val_loss: 0.7810 - val_accuracy: 0.6620\n",
      "Epoch 15/30\n",
      "9/9 [==============================] - 34s 4s/step - loss: 0.6828 - accuracy: 0.7250 - val_loss: 0.7656 - val_accuracy: 0.7183\n",
      "Epoch 16/30\n",
      "9/9 [==============================] - 34s 4s/step - loss: 0.6637 - accuracy: 0.7250 - val_loss: 0.7603 - val_accuracy: 0.7465\n",
      "Epoch 17/30\n",
      "9/9 [==============================] - 34s 4s/step - loss: 0.6821 - accuracy: 0.7179 - val_loss: 0.7625 - val_accuracy: 0.6901\n",
      "Epoch 18/30\n",
      "9/9 [==============================] - 34s 4s/step - loss: 0.6262 - accuracy: 0.7464 - val_loss: 0.7767 - val_accuracy: 0.6761\n",
      "Epoch 19/30\n",
      "9/9 [==============================] - 34s 4s/step - loss: 0.6423 - accuracy: 0.7357 - val_loss: 0.8022 - val_accuracy: 0.6197\n",
      "Epoch 20/30\n",
      "9/9 [==============================] - 34s 4s/step - loss: 0.6384 - accuracy: 0.7393 - val_loss: 0.7794 - val_accuracy: 0.6479\n",
      "Epoch 21/30\n",
      "9/9 [==============================] - 34s 4s/step - loss: 0.6270 - accuracy: 0.7286 - val_loss: 0.7706 - val_accuracy: 0.6479\n",
      "Epoch 22/30\n",
      "9/9 [==============================] - 34s 4s/step - loss: 0.6119 - accuracy: 0.7321 - val_loss: 0.7469 - val_accuracy: 0.7183\n",
      "Epoch 23/30\n",
      "9/9 [==============================] - 34s 4s/step - loss: 0.5890 - accuracy: 0.7536 - val_loss: 0.7412 - val_accuracy: 0.7465\n",
      "Epoch 24/30\n",
      "9/9 [==============================] - 35s 4s/step - loss: 0.5859 - accuracy: 0.7679 - val_loss: 0.7539 - val_accuracy: 0.6901\n",
      "Epoch 25/30\n",
      "9/9 [==============================] - 34s 4s/step - loss: 0.5825 - accuracy: 0.7857 - val_loss: 0.7396 - val_accuracy: 0.7183\n",
      "Epoch 26/30\n",
      "9/9 [==============================] - 34s 4s/step - loss: 0.5979 - accuracy: 0.7321 - val_loss: 0.7489 - val_accuracy: 0.6901\n",
      "Epoch 27/30\n",
      "9/9 [==============================] - 34s 4s/step - loss: 0.5265 - accuracy: 0.8107 - val_loss: 0.7380 - val_accuracy: 0.7042\n",
      "Epoch 28/30\n",
      "9/9 [==============================] - 34s 4s/step - loss: 0.5142 - accuracy: 0.7964 - val_loss: 0.7441 - val_accuracy: 0.6901\n",
      "Epoch 29/30\n",
      "9/9 [==============================] - 34s 4s/step - loss: 0.5506 - accuracy: 0.7786 - val_loss: 0.7411 - val_accuracy: 0.7183\n",
      "Epoch 30/30\n",
      "9/9 [==============================] - 34s 4s/step - loss: 0.5434 - accuracy: 0.7857 - val_loss: 0.7439 - val_accuracy: 0.6901\n"
     ]
    }
   ],
   "source": [
    "history2 = model.fit(X_train, y_train, epochs=30, validation_data=(X_val, y_val), batch_size=32, shuffle=True)"
   ]
  },
  {
   "cell_type": "code",
   "execution_count": 37,
   "id": "91b4a06d",
   "metadata": {
    "scrolled": true
   },
   "outputs": [
    {
     "name": "stdout",
     "output_type": "stream",
     "text": [
      "Epoch 1/5\n",
      "9/9 [==============================] - 35s 4s/step - loss: 0.4990 - accuracy: 0.8071 - val_loss: 0.7151 - val_accuracy: 0.7183\n",
      "Epoch 2/5\n",
      "9/9 [==============================] - 34s 4s/step - loss: 0.4946 - accuracy: 0.8321 - val_loss: 0.7234 - val_accuracy: 0.7042\n",
      "Epoch 3/5\n",
      "9/9 [==============================] - 34s 4s/step - loss: 0.4800 - accuracy: 0.8321 - val_loss: 0.7036 - val_accuracy: 0.7183\n",
      "Epoch 4/5\n",
      "9/9 [==============================] - 35s 4s/step - loss: 0.5053 - accuracy: 0.8107 - val_loss: 0.7284 - val_accuracy: 0.7042\n",
      "Epoch 5/5\n",
      "9/9 [==============================] - 35s 4s/step - loss: 0.4945 - accuracy: 0.8143 - val_loss: 0.7052 - val_accuracy: 0.7324\n"
     ]
    }
   ],
   "source": [
    "history3 = model.fit(X_train, y_train, epochs=5, validation_data=(X_val, y_val), batch_size=32, shuffle=True)"
   ]
  },
  {
   "cell_type": "code",
   "execution_count": 38,
   "id": "35439a6b",
   "metadata": {},
   "outputs": [
    {
     "name": "stdout",
     "output_type": "stream",
     "text": [
      "3/3 [==============================] - 8s 2s/step - loss: 0.7052 - accuracy: 0.7324\n",
      "Test Accuracy: 0.7323943376541138\n"
     ]
    }
   ],
   "source": [
    "test_loss, test_accuracy = model.evaluate(X_val, y_val)\n",
    "print(\"Test Accuracy:\", test_accuracy)"
   ]
  },
  {
   "cell_type": "code",
   "execution_count": 39,
   "id": "7a9e4b79",
   "metadata": {},
   "outputs": [
    {
     "data": {
      "image/png": "[encoded data removed]",
      "text/plain": [
       "<Figure size 720x432 with 1 Axes>"
      ]
     },
     "metadata": {
      "needs_background": "light"
     },
     "output_type": "display_data"
    }
   ],
   "source": [
    "import matplotlib.pyplot as plt\n",
    "\n",
    "# Combine histories\n",
    "combined_history = {}\n",
    "for i, history in enumerate([history, history1, history2, history3]):\n",
    "    for key in history.history:\n",
    "        if key not in combined_history:\n",
    "            combined_history[key] = []\n",
    "        combined_history[key].extend(history.history[key])\n",
    "\n",
    "# Plot accuracies\n",
    "plt.figure(figsize=(10, 6))\n",
    "plt.plot(combined_history['accuracy'], label='Training Accuracy')\n",
    "plt.plot(combined_history['val_accuracy'], label='Validation Accuracy')\n",
    "plt.title('Training and Validation Accuracies')\n",
    "plt.xlabel('Epoch')\n",
    "plt.ylabel('Accuracy')\n",
    "plt.legend()\n",
    "plt.show()\n"
   ]
  },
  {
   "cell_type": "code",
   "execution_count": 40,
   "id": "8329e7d4",
   "metadata": {},
   "outputs": [
    {
     "name": "stderr",
     "output_type": "stream",
     "text": [
      "D:\\anaconda\\lib\\site-packages\\keras\\src\\engine\\training.py:3000: UserWarning: You are saving your model as an HDF5 file via `model.save()`. This file format is considered legacy. We recommend using instead the native Keras format, e.g. `model.save('my_model.keras')`.\n",
      "  saving_api.save_model(\n"
     ]
    }
   ],
   "source": [
    "model.save('spine_VGG19_without_aug.h5')"
   ]
  },
  {
   "cell_type": "code",
   "execution_count": null,
   "id": "cd640adf",
   "metadata": {},
   "outputs": [],
   "source": []
  }
 ],
 "metadata": {
  "kernelspec": {
   "display_name": "Python 3 (ipykernel)",
   "language": "python",
   "name": "python3"
  },
  "language_info": {
   "codemirror_mode": {
    "name": "ipython",
    "version": 3
   },
   "file_extension": ".py",
   "mimetype": "text/x-python",
   "name": "python",
   "nbconvert_exporter": "python",
   "pygments_lexer": "ipython3",
   "version": "3.9.7"
  }
 },
 "nbformat": 4,
 "nbformat_minor": 5
}
